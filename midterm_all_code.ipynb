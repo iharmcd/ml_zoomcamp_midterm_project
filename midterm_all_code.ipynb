{
 "cells": [
  {
   "cell_type": "code",
   "execution_count": 108,
   "id": "5e998e7c-2cb0-4291-aa4d-d1b00eb8e6e6",
   "metadata": {},
   "outputs": [
    {
     "data": {
      "text/html": [
       "<div>\n",
       "<style scoped>\n",
       "    .dataframe tbody tr th:only-of-type {\n",
       "        vertical-align: middle;\n",
       "    }\n",
       "\n",
       "    .dataframe tbody tr th {\n",
       "        vertical-align: top;\n",
       "    }\n",
       "\n",
       "    .dataframe thead th {\n",
       "        text-align: right;\n",
       "    }\n",
       "</style>\n",
       "<table border=\"1\" class=\"dataframe\">\n",
       "  <thead>\n",
       "    <tr style=\"text-align: right;\">\n",
       "      <th></th>\n",
       "      <th>0</th>\n",
       "      <th>1</th>\n",
       "      <th>2</th>\n",
       "      <th>3</th>\n",
       "      <th>4</th>\n",
       "    </tr>\n",
       "  </thead>\n",
       "  <tbody>\n",
       "    <tr>\n",
       "      <th>age</th>\n",
       "      <td>39</td>\n",
       "      <td>50</td>\n",
       "      <td>38</td>\n",
       "      <td>53</td>\n",
       "      <td>28</td>\n",
       "    </tr>\n",
       "    <tr>\n",
       "      <th>workclass</th>\n",
       "      <td>State-gov</td>\n",
       "      <td>Self-emp-not-inc</td>\n",
       "      <td>Private</td>\n",
       "      <td>Private</td>\n",
       "      <td>Private</td>\n",
       "    </tr>\n",
       "    <tr>\n",
       "      <th>fnlwgt</th>\n",
       "      <td>77516</td>\n",
       "      <td>83311</td>\n",
       "      <td>215646</td>\n",
       "      <td>234721</td>\n",
       "      <td>338409</td>\n",
       "    </tr>\n",
       "    <tr>\n",
       "      <th>education</th>\n",
       "      <td>Bachelors</td>\n",
       "      <td>Bachelors</td>\n",
       "      <td>HS-grad</td>\n",
       "      <td>11th</td>\n",
       "      <td>Bachelors</td>\n",
       "    </tr>\n",
       "    <tr>\n",
       "      <th>education-num</th>\n",
       "      <td>13</td>\n",
       "      <td>13</td>\n",
       "      <td>9</td>\n",
       "      <td>7</td>\n",
       "      <td>13</td>\n",
       "    </tr>\n",
       "    <tr>\n",
       "      <th>marital-status</th>\n",
       "      <td>Never-married</td>\n",
       "      <td>Married-civ-spouse</td>\n",
       "      <td>Divorced</td>\n",
       "      <td>Married-civ-spouse</td>\n",
       "      <td>Married-civ-spouse</td>\n",
       "    </tr>\n",
       "    <tr>\n",
       "      <th>occupation</th>\n",
       "      <td>Adm-clerical</td>\n",
       "      <td>Exec-managerial</td>\n",
       "      <td>Handlers-cleaners</td>\n",
       "      <td>Handlers-cleaners</td>\n",
       "      <td>Prof-specialty</td>\n",
       "    </tr>\n",
       "    <tr>\n",
       "      <th>relationship</th>\n",
       "      <td>Not-in-family</td>\n",
       "      <td>Husband</td>\n",
       "      <td>Not-in-family</td>\n",
       "      <td>Husband</td>\n",
       "      <td>Wife</td>\n",
       "    </tr>\n",
       "    <tr>\n",
       "      <th>race</th>\n",
       "      <td>White</td>\n",
       "      <td>White</td>\n",
       "      <td>White</td>\n",
       "      <td>Black</td>\n",
       "      <td>Black</td>\n",
       "    </tr>\n",
       "    <tr>\n",
       "      <th>sex</th>\n",
       "      <td>Male</td>\n",
       "      <td>Male</td>\n",
       "      <td>Male</td>\n",
       "      <td>Male</td>\n",
       "      <td>Female</td>\n",
       "    </tr>\n",
       "    <tr>\n",
       "      <th>capital-gain</th>\n",
       "      <td>2174</td>\n",
       "      <td>0</td>\n",
       "      <td>0</td>\n",
       "      <td>0</td>\n",
       "      <td>0</td>\n",
       "    </tr>\n",
       "    <tr>\n",
       "      <th>capital-loss</th>\n",
       "      <td>0</td>\n",
       "      <td>0</td>\n",
       "      <td>0</td>\n",
       "      <td>0</td>\n",
       "      <td>0</td>\n",
       "    </tr>\n",
       "    <tr>\n",
       "      <th>hours-per-week</th>\n",
       "      <td>40</td>\n",
       "      <td>13</td>\n",
       "      <td>40</td>\n",
       "      <td>40</td>\n",
       "      <td>40</td>\n",
       "    </tr>\n",
       "    <tr>\n",
       "      <th>native-country</th>\n",
       "      <td>United-States</td>\n",
       "      <td>United-States</td>\n",
       "      <td>United-States</td>\n",
       "      <td>United-States</td>\n",
       "      <td>Cuba</td>\n",
       "    </tr>\n",
       "    <tr>\n",
       "      <th>income</th>\n",
       "      <td>&lt;=50K</td>\n",
       "      <td>&lt;=50K</td>\n",
       "      <td>&lt;=50K</td>\n",
       "      <td>&lt;=50K</td>\n",
       "      <td>&lt;=50K</td>\n",
       "    </tr>\n",
       "  </tbody>\n",
       "</table>\n",
       "</div>"
      ],
      "text/plain": [
       "                            0                   1                  2  \\\n",
       "age                        39                  50                 38   \n",
       "workclass           State-gov    Self-emp-not-inc            Private   \n",
       "fnlwgt                  77516               83311             215646   \n",
       "education           Bachelors           Bachelors            HS-grad   \n",
       "education-num              13                  13                  9   \n",
       "marital-status  Never-married  Married-civ-spouse           Divorced   \n",
       "occupation       Adm-clerical     Exec-managerial  Handlers-cleaners   \n",
       "relationship    Not-in-family             Husband      Not-in-family   \n",
       "race                    White               White              White   \n",
       "sex                      Male                Male               Male   \n",
       "capital-gain             2174                   0                  0   \n",
       "capital-loss                0                   0                  0   \n",
       "hours-per-week             40                  13                 40   \n",
       "native-country  United-States       United-States      United-States   \n",
       "income                  <=50K               <=50K              <=50K   \n",
       "\n",
       "                                 3                   4  \n",
       "age                             53                  28  \n",
       "workclass                  Private             Private  \n",
       "fnlwgt                      234721              338409  \n",
       "education                     11th           Bachelors  \n",
       "education-num                    7                  13  \n",
       "marital-status  Married-civ-spouse  Married-civ-spouse  \n",
       "occupation       Handlers-cleaners      Prof-specialty  \n",
       "relationship               Husband                Wife  \n",
       "race                         Black               Black  \n",
       "sex                           Male              Female  \n",
       "capital-gain                     0                   0  \n",
       "capital-loss                     0                   0  \n",
       "hours-per-week                  40                  40  \n",
       "native-country       United-States                Cuba  \n",
       "income                       <=50K               <=50K  "
      ]
     },
     "execution_count": 108,
     "metadata": {},
     "output_type": "execute_result"
    }
   ],
   "source": [
    "import pandas as pd\n",
    "\n",
    "df = pd.read_csv('Downloads/adult_income.csv')\n",
    "df.head().T"
   ]
  },
  {
   "cell_type": "code",
   "execution_count": 109,
   "id": "7b05e79a-2a2b-4606-930f-344766a6dc7b",
   "metadata": {},
   "outputs": [
    {
     "data": {
      "text/plain": [
       "age                 0\n",
       "workclass         963\n",
       "fnlwgt              0\n",
       "education           0\n",
       "education-num       0\n",
       "marital-status      0\n",
       "occupation        966\n",
       "relationship        0\n",
       "race                0\n",
       "sex                 0\n",
       "capital-gain        0\n",
       "capital-loss        0\n",
       "hours-per-week      0\n",
       "native-country    274\n",
       "income              0\n",
       "dtype: int64"
      ]
     },
     "execution_count": 109,
     "metadata": {},
     "output_type": "execute_result"
    }
   ],
   "source": [
    "df.isnull().sum()"
   ]
  },
  {
   "cell_type": "code",
   "execution_count": 110,
   "id": "6fd994f8-76b6-4dc9-81c2-6f4e5d24e5f6",
   "metadata": {},
   "outputs": [
    {
     "data": {
      "text/plain": [
       "income\n",
       "<=50K     24720\n",
       "<=50K.    12435\n",
       ">50K       7841\n",
       ">50K.      3846\n",
       "Name: count, dtype: int64"
      ]
     },
     "execution_count": 110,
     "metadata": {},
     "output_type": "execute_result"
    }
   ],
   "source": [
    "df.income.value_counts()"
   ]
  },
  {
   "cell_type": "code",
   "execution_count": 111,
   "id": "07dada39-0c94-468d-9134-450438357885",
   "metadata": {},
   "outputs": [],
   "source": [
    "df.income = df.income.str.replace('.', '')\n",
    "df['income'] = df['income'].map({'<=50K': 0, '>50K': 1})\n",
    "\n",
    "df['workclass'] = df.workclass.fillna('?')\n",
    "df['occupation'] = df.occupation.fillna('?')\n",
    "df['native_country'] = df['native-country'].fillna('?')\n",
    "\n",
    "del df['native-country']"
   ]
  },
  {
   "cell_type": "code",
   "execution_count": 112,
   "id": "3508f6c5-5fd4-48a2-b7ad-42c60afa215c",
   "metadata": {},
   "outputs": [
    {
     "data": {
      "text/plain": [
       "age               0\n",
       "workclass         0\n",
       "fnlwgt            0\n",
       "education         0\n",
       "education-num     0\n",
       "marital-status    0\n",
       "occupation        0\n",
       "relationship      0\n",
       "race              0\n",
       "sex               0\n",
       "capital-gain      0\n",
       "capital-loss      0\n",
       "hours-per-week    0\n",
       "income            0\n",
       "native_country    0\n",
       "dtype: int64"
      ]
     },
     "execution_count": 112,
     "metadata": {},
     "output_type": "execute_result"
    }
   ],
   "source": [
    "df.isnull().sum()"
   ]
  },
  {
   "cell_type": "code",
   "execution_count": 113,
   "id": "281046ea-653d-4ea6-91b6-3eb74e3ea80a",
   "metadata": {},
   "outputs": [
    {
     "data": {
      "text/plain": [
       "age                int64\n",
       "workclass         object\n",
       "fnlwgt             int64\n",
       "education         object\n",
       "education-num      int64\n",
       "marital-status    object\n",
       "occupation        object\n",
       "relationship      object\n",
       "race              object\n",
       "sex               object\n",
       "capital-gain       int64\n",
       "capital-loss       int64\n",
       "hours-per-week     int64\n",
       "income             int64\n",
       "native_country    object\n",
       "dtype: object"
      ]
     },
     "execution_count": 113,
     "metadata": {},
     "output_type": "execute_result"
    }
   ],
   "source": [
    "df.dtypes"
   ]
  },
  {
   "cell_type": "code",
   "execution_count": 114,
   "id": "3abc1e21-bbc1-487b-9a97-8c91db39aa31",
   "metadata": {},
   "outputs": [],
   "source": [
    "numeric_columns = ['age', 'fnlwgt','education-num', 'capital-gain', 'capital-loss', 'hours-per-week']\n",
    "\n",
    "string_columns = [i for i in df.columns if i not in numeric_columns and i != 'income'] # exclude income as it is y"
   ]
  },
  {
   "cell_type": "code",
   "execution_count": 115,
   "id": "84eebfd9-8ca9-4ffa-b081-17d53d0ab2c8",
   "metadata": {},
   "outputs": [],
   "source": [
    "from sklearn.model_selection import train_test_split\n",
    "\n",
    "target_column = 'income'\n",
    "\n",
    "\n",
    "df_train_full, df_test = train_test_split(df, test_size=0.2, random_state=1)\n",
    "df_train, df_val = train_test_split(df_train_full, test_size=0.25, random_state=1)\n",
    "\n",
    "\n",
    "y_train = df_train[target_column]\n",
    "y_val = df_val[target_column]\n",
    "y_test = df_test[target_column]\n",
    "\n",
    "\n",
    "del df_train[target_column]\n",
    "del df_val[target_column]\n",
    "del df_test[target_column]"
   ]
  },
  {
   "cell_type": "code",
   "execution_count": 116,
   "id": "6c1b8f13-8679-463c-b690-b71d355ee254",
   "metadata": {},
   "outputs": [],
   "source": [
    "from sklearn.feature_extraction import DictVectorizer\n",
    "\n",
    "# Initialize DictVectorizer with sparse=True\n",
    "dv = DictVectorizer(sparse=True)\n",
    "\n",
    "# Convert dataframes to dictionaries and apply DictVectorizer\n",
    "train_dicts = df_train.to_dict(orient='records')\n",
    "val_dicts = df_val.to_dict(orient='records')\n",
    "test_dicts = df_test.to_dict(orient='records')\n",
    "\n",
    "X_train = dv.fit_transform(train_dicts)\n",
    "X_val = dv.transform(val_dicts)\n",
    "X_test = dv.transform(test_dicts)"
   ]
  },
  {
   "cell_type": "code",
   "execution_count": 138,
   "id": "6e050666-8373-4af6-aff0-3ec45046d478",
   "metadata": {},
   "outputs": [
    {
     "name": "stdout",
     "output_type": "stream",
     "text": [
      "0.8577131743269526 0.7482776894541601 0.6067898581865062 0.9110438010400326\n"
     ]
    }
   ],
   "source": [
    "from sklearn.preprocessing import StandardScaler\n",
    "from sklearn.metrics import roc_auc_score\n",
    "\n",
    "scaler = StandardScaler(with_mean=False)\n",
    "\n",
    "X_train_scaled = scaler.fit_transform(X_train)\n",
    "X_val_scaled = scaler.transform(X_val)\n",
    "\n",
    "model_LR = LogisticRegression(max_iter=1000, random_state=42)\n",
    "model_LR.fit(X_train_scaled, y_train)\n",
    "\n",
    "\n",
    "y_pred_proba = model_LR.predict_proba(X_val_scaled)[:, 1]\n",
    "y_pred = (y_pred_proba >= 0.5).astype(int)\n",
    "\n",
    "accuracy = accuracy_score(y_val, y_pred)\n",
    "precision = precision_score(y_val, y_pred)\n",
    "recall = recall_score(y_val, y_pred)\n",
    "roc_auc = roc_auc_score(y_val, y_pred_proba)\n",
    "\n",
    "print(accuracy, precision, recall, roc_auc)"
   ]
  },
  {
   "cell_type": "code",
   "execution_count": 119,
   "id": "f1585969-0756-4d20-a9f2-c2d54e7a6221",
   "metadata": {},
   "outputs": [
    {
     "name": "stdout",
     "output_type": "stream",
     "text": [
      "0.00 0.238\n",
      "0.05 0.636\n",
      "0.10 0.718\n",
      "0.15 0.767\n",
      "0.20 0.797\n",
      "0.25 0.819\n",
      "0.30 0.836\n",
      "0.35 0.847\n",
      "0.40 0.854\n",
      "0.45 0.857\n",
      "0.50 0.858\n",
      "0.55 0.856\n",
      "0.60 0.852\n",
      "0.65 0.846\n",
      "0.70 0.839\n",
      "0.75 0.829\n",
      "0.80 0.821\n",
      "0.85 0.811\n",
      "0.90 0.802\n",
      "0.95 0.791\n",
      "1.00 0.762\n"
     ]
    }
   ],
   "source": [
    "import numpy as np\n",
    "from sklearn.metrics import accuracy_score\n",
    "\n",
    "thresholds = np.linspace(0, 1, 21)  # Creates 21 evenly spaced thresholds from 0 to 1\n",
    "\n",
    "logistic_accuracies = {'accs': [], 'vals': []}\n",
    "\n",
    "for t in thresholds:\n",
    "    # Assuming y_pred contains probability values, you can threshold it\n",
    "    acc = accuracy_score(y_val, y_pred_proba >= t)\n",
    "    logistic_accuracies['accs'].append(t)\n",
    "    logistic_accuracies['vals'].append(acc)\n",
    "    print('%0.2f %0.3f' % (t, acc))"
   ]
  },
  {
   "cell_type": "code",
   "execution_count": 120,
   "id": "998e2e03-bf84-4fec-af3d-18fffaa24f74",
   "metadata": {},
   "outputs": [
    {
     "name": "stdout",
     "output_type": "stream",
     "text": [
      "Accuracy: 0.8577, Precision: 0.7483, Recall: 0.6068\n",
      "\n",
      "Top 10 features by importance:\n",
      "                              Feature  Coefficient  Importance\n",
      "1                        capital-gain     2.412365    2.412365\n",
      "26       marital-status=Never-married    -0.675740    0.675740\n",
      "24  marital-status=Married-civ-spouse     0.548742    0.548742\n",
      "97                         sex=Female    -0.405300    0.405300\n",
      "21                     hours-per-week     0.379923    0.379923\n",
      "94             relationship=Own-child    -0.367675    0.367675\n",
      "0                                 age     0.352984    0.352984\n",
      "22            marital-status=Divorced    -0.345048    0.345048\n",
      "15                  education=HS-grad    -0.341632    0.341632\n",
      "88                         race=Black    -0.322860    0.322860\n"
     ]
    }
   ],
   "source": [
    "# 5. Make predictions and calculate metrics\n",
    "y_pred_proba = model_LR.predict_proba(X_val_scaled)[:, 1]\n",
    "y_pred = (y_pred_proba >= 0.5).astype(int)\n",
    "\n",
    "accuracy = accuracy_score(y_val, y_pred)\n",
    "precision = precision_score(y_val, y_pred)\n",
    "recall = recall_score(y_val, y_pred)\n",
    "\n",
    "print(f\"Accuracy: {accuracy:.4f}, Precision: {precision:.4f}, Recall: {recall:.4f}\")\n",
    "\n",
    "# 6. Get feature importance (coefficients)\n",
    "feature_names = dv.get_feature_names_out()  # Get feature names from the vectorizer\n",
    "coefficients = model.coef_.flatten()  # Flatten the coefficients to a 1D array\n",
    "\n",
    "# Combine feature names and coefficients into a DataFrame for better visualization\n",
    "feature_importance = pd.DataFrame({\n",
    "    'Feature': feature_names,\n",
    "    'Coefficient': coefficients\n",
    "})\n",
    "\n",
    "# Sort features by the absolute value of the coefficients\n",
    "feature_importance['Importance'] = feature_importance['Coefficient'].abs()\n",
    "feature_importance = feature_importance.sort_values(by='Importance', ascending=False)\n",
    "\n",
    "# Display top 10 most important features\n",
    "print(\"\\nTop 10 features by importance:\")\n",
    "print(feature_importance.head(10))\n"
   ]
  },
  {
   "cell_type": "markdown",
   "id": "aa9663e9-4bc3-4bea-bd5d-680195842770",
   "metadata": {},
   "source": [
    "### Decision tree"
   ]
  },
  {
   "cell_type": "code",
   "execution_count": 141,
   "id": "a2983d08-5124-4eb2-9693-fac1c74dfdda",
   "metadata": {},
   "outputs": [
    {
     "name": "stdout",
     "output_type": "stream",
     "text": [
      "0.8173815129491248 0.6149936467598475 0.6239793725827245 0.750959316724887\n"
     ]
    }
   ],
   "source": [
    "target_column = 'income'\n",
    "\n",
    "\n",
    "df_train_full, df_test = train_test_split(df, test_size=0.2, random_state=1)\n",
    "df_train, df_val = train_test_split(df_train_full, test_size=0.25, random_state=1)\n",
    "\n",
    "\n",
    "y_train = df_train[target_column]\n",
    "y_val = df_val[target_column]\n",
    "y_test = df_test[target_column]\n",
    "\n",
    "\n",
    "del df_train[target_column]\n",
    "del df_val[target_column]\n",
    "del df_test[target_column]\n",
    "\n",
    "# Initialize DictVectorizer with sparse=True\n",
    "dv = DictVectorizer(sparse=True)\n",
    "\n",
    "# Convert dataframes to dictionaries and apply DictVectorizer\n",
    "train_dicts = df_train.to_dict(orient='records')\n",
    "val_dicts = df_val.to_dict(orient='records')\n",
    "test_dicts = df_test.to_dict(orient='records')\n",
    "\n",
    "X_train = dv.fit_transform(train_dicts)\n",
    "X_val = dv.transform(val_dicts)\n",
    "X_test = dv.transform(test_dicts)\n",
    "\n",
    "scaler = StandardScaler(with_mean=False)\n",
    "\n",
    "X_train_scaled = scaler.fit_transform(X_train)\n",
    "X_val_scaled = scaler.transform(X_val)\n",
    "\n",
    "from sklearn.tree import DecisionTreeClassifier\n",
    "\n",
    "model_DT = DecisionTreeClassifier()\n",
    "model_DT.fit(X_train_scaled, y_train)\n",
    "\n",
    "# Step 7: Make predictions and calculate metrics\n",
    "y_pred_proba = model_DT.predict_proba(X_val_scaled)[:, 1]\n",
    "y_pred = (y_pred_proba >= 0.5).astype(int)\n",
    "\n",
    "\n",
    "accuracy = accuracy_score(y_val, y_pred)\n",
    "precision = precision_score(y_val, y_pred)\n",
    "recall = recall_score(y_val, y_pred)\n",
    "roc_auc = roc_auc_score(y_val, y_pred_proba)\n",
    "\n",
    "print(accuracy, precision, recall, roc_auc)\n",
    "\n"
   ]
  },
  {
   "cell_type": "code",
   "execution_count": 142,
   "id": "aaad0887-2719-4218-b883-34e03960492a",
   "metadata": {},
   "outputs": [
    {
     "name": "stdout",
     "output_type": "stream",
     "text": [
      "   1 -> 0.768\n",
      "   2 -> 0.840\n",
      "   3 -> 0.862\n",
      "   4 -> 0.875\n",
      "   5 -> 0.888\n",
      "   6 -> 0.900\n",
      "  10 -> 0.900\n",
      "  15 -> 0.857\n",
      "  20 -> 0.818\n",
      "None -> 0.748\n"
     ]
    }
   ],
   "source": [
    "for depth in [1, 2, 3, 4, 5, 6, 10, 15, 20, None]:\n",
    "    dt = DecisionTreeClassifier(max_depth=depth)\n",
    "    dt.fit(X_train_scaled, y_train)\n",
    "    y_pred_proba = dt.predict_proba(X_val_scaled)[:, 1]\n",
    "    y_pred = (y_pred_proba >= 0.5).astype(int)\n",
    "    auc = roc_auc_score(y_val, y_pred_proba)\n",
    "    print('%4s -> %.3f' % (depth, auc))"
   ]
  },
  {
   "cell_type": "code",
   "execution_count": 143,
   "id": "1528a408-36bd-4dda-b0dc-037371af3025",
   "metadata": {},
   "outputs": [
    {
     "name": "stdout",
     "output_type": "stream",
     "text": [
      "  10 -> 0.899\n",
      "  11 -> 0.891\n",
      "  12 -> 0.886\n",
      "  13 -> 0.874\n",
      "  14 -> 0.870\n",
      "  15 -> 0.857\n"
     ]
    }
   ],
   "source": [
    "for depth in range(10,16,1):\n",
    "    dt = DecisionTreeClassifier(max_depth=depth)\n",
    "    dt.fit(X_train_scaled, y_train)\n",
    "    y_pred_proba = dt.predict_proba(X_val_scaled)[:, 1]\n",
    "    y_pred = (y_pred_proba >= 0.5).astype(int)\n",
    "    auc = roc_auc_score(y_val, y_pred_proba)\n",
    "    print('%4s -> %.3f' % (depth, auc))"
   ]
  },
  {
   "cell_type": "code",
   "execution_count": 151,
   "id": "d7fa46bb-b33d-4cbf-a396-67648e8384ea",
   "metadata": {},
   "outputs": [
    {
     "name": "stdout",
     "output_type": "stream",
     "text": [
      "1 -> 0.906\n",
      "5 -> 0.906\n",
      "10 -> 0.905\n",
      "15 -> 0.906\n",
      "20 -> 0.907\n",
      "50 -> 0.906\n",
      "100 -> 0.905\n",
      "200 -> 0.904\n"
     ]
    }
   ],
   "source": [
    "for m in [1, 5, 10, 15, 20, 50, 100, 200]:\n",
    "    dt = DecisionTreeClassifier(max_depth=8, min_samples_leaf=m)\n",
    "    dt.fit(X_train_scaled, y_train)\n",
    "    y_pred_proba = dt.predict_proba(X_val_scaled)[:, 1]\n",
    "    y_pred = (y_pred_proba >= 0.5).astype(int)\n",
    "    auc = roc_auc_score(y_val, y_pred_proba)\n",
    "    print('%s -> %.3f' % (m, auc))"
   ]
  },
  {
   "cell_type": "code",
   "execution_count": 150,
   "id": "62ec5b3c-6ae2-4d2b-838d-8af9079ce6ee",
   "metadata": {},
   "outputs": [
    {
     "name": "stdout",
     "output_type": "stream",
     "text": [
      "2 -> 0.907\n",
      "3 -> 0.907\n",
      "4 -> 0.907\n",
      "5 -> 0.907\n",
      "6 -> 0.907\n",
      "7 -> 0.907\n",
      "8 -> 0.906\n",
      "9 -> 0.905\n",
      "10 -> 0.905\n",
      "11 -> 0.906\n",
      "12 -> 0.906\n",
      "13 -> 0.907\n",
      "14 -> 0.907\n"
     ]
    }
   ],
   "source": [
    "for m in range(2,15,1):\n",
    "    dt = DecisionTreeClassifier(max_depth=8, min_samples_leaf=m)\n",
    "    dt.fit(X_train_scaled, y_train)\n",
    "    y_pred_proba = dt.predict_proba(X_val_scaled)[:, 1]\n",
    "    y_pred = (y_pred_proba >= 0.5).astype(int)\n",
    "    auc = roc_auc_score(y_val, y_pred_proba)\n",
    "    print('%s -> %.3f' % (m, auc))"
   ]
  },
  {
   "cell_type": "code",
   "execution_count": 149,
   "id": "5620a38c-0e4e-4794-8742-ce6b51367943",
   "metadata": {},
   "outputs": [
    {
     "name": "stdout",
     "output_type": "stream",
     "text": [
      "depth: 6\n",
      "1 -> 0.900\n",
      "2 -> 0.900\n",
      "3 -> 0.901\n",
      "4 -> 0.900\n",
      "5 -> 0.900\n",
      "6 -> 0.900\n",
      "7 -> 0.900\n",
      "8 -> 0.900\n",
      "9 -> 0.900\n",
      "10 -> 0.900\n",
      "11 -> 0.900\n",
      "12 -> 0.900\n",
      "13 -> 0.900\n",
      "14 -> 0.900\n",
      "15 -> 0.900\n",
      "16 -> 0.899\n",
      "17 -> 0.899\n",
      "18 -> 0.899\n",
      "19 -> 0.899\n",
      "\n",
      "depth: 7\n",
      "1 -> 0.904\n",
      "2 -> 0.905\n",
      "3 -> 0.905\n",
      "4 -> 0.905\n",
      "5 -> 0.905\n",
      "6 -> 0.905\n",
      "7 -> 0.905\n",
      "8 -> 0.905\n",
      "9 -> 0.904\n",
      "10 -> 0.904\n",
      "11 -> 0.904\n",
      "12 -> 0.903\n",
      "13 -> 0.904\n",
      "14 -> 0.904\n",
      "15 -> 0.904\n",
      "16 -> 0.904\n",
      "17 -> 0.903\n",
      "18 -> 0.903\n",
      "19 -> 0.904\n",
      "\n",
      "depth: 8\n",
      "1 -> 0.906\n",
      "2 -> 0.907\n",
      "3 -> 0.907\n",
      "4 -> 0.907\n",
      "5 -> 0.906\n",
      "6 -> 0.907\n",
      "7 -> 0.907\n",
      "8 -> 0.906\n",
      "9 -> 0.905\n",
      "10 -> 0.905\n",
      "11 -> 0.906\n",
      "12 -> 0.906\n",
      "13 -> 0.907\n",
      "14 -> 0.907\n",
      "15 -> 0.906\n",
      "16 -> 0.906\n",
      "17 -> 0.906\n",
      "18 -> 0.906\n",
      "19 -> 0.907\n",
      "\n",
      "depth: 9\n",
      "1 -> 0.900\n",
      "2 -> 0.904\n",
      "3 -> 0.905\n",
      "4 -> 0.905\n",
      "5 -> 0.905\n",
      "6 -> 0.905\n",
      "7 -> 0.907\n",
      "8 -> 0.907\n",
      "9 -> 0.905\n",
      "10 -> 0.904\n",
      "11 -> 0.905\n",
      "12 -> 0.906\n",
      "13 -> 0.905\n",
      "14 -> 0.906\n",
      "15 -> 0.906\n",
      "16 -> 0.906\n",
      "17 -> 0.906\n",
      "18 -> 0.906\n",
      "19 -> 0.907\n",
      "\n",
      "depth: 10\n",
      "1 -> 0.898\n",
      "2 -> 0.899\n",
      "3 -> 0.900\n",
      "4 -> 0.901\n",
      "5 -> 0.902\n",
      "6 -> 0.901\n",
      "7 -> 0.902\n",
      "8 -> 0.904\n",
      "9 -> 0.900\n",
      "10 -> 0.901\n",
      "11 -> 0.900\n",
      "12 -> 0.901\n",
      "13 -> 0.901\n",
      "14 -> 0.902\n",
      "15 -> 0.901\n",
      "16 -> 0.902\n",
      "17 -> 0.902\n",
      "18 -> 0.903\n",
      "19 -> 0.904\n",
      "\n",
      "depth: 11\n",
      "1 -> 0.893\n",
      "2 -> 0.893\n",
      "3 -> 0.894\n",
      "4 -> 0.895\n",
      "5 -> 0.898\n",
      "6 -> 0.895\n",
      "7 -> 0.898\n",
      "8 -> 0.899\n",
      "9 -> 0.897\n",
      "10 -> 0.897\n",
      "11 -> 0.898\n",
      "12 -> 0.898\n",
      "13 -> 0.900\n",
      "14 -> 0.899\n",
      "15 -> 0.899\n",
      "16 -> 0.900\n",
      "17 -> 0.900\n",
      "18 -> 0.900\n",
      "19 -> 0.901\n",
      "\n",
      "depth: 12\n",
      "1 -> 0.884\n",
      "2 -> 0.885\n",
      "3 -> 0.885\n",
      "4 -> 0.889\n",
      "5 -> 0.891\n",
      "6 -> 0.890\n",
      "7 -> 0.893\n",
      "8 -> 0.894\n",
      "9 -> 0.892\n",
      "10 -> 0.893\n",
      "11 -> 0.894\n",
      "12 -> 0.895\n",
      "13 -> 0.897\n",
      "14 -> 0.898\n",
      "15 -> 0.899\n",
      "16 -> 0.899\n",
      "17 -> 0.900\n",
      "18 -> 0.900\n",
      "19 -> 0.901\n",
      "\n",
      "depth: 13\n",
      "1 -> 0.873\n",
      "2 -> 0.874\n",
      "3 -> 0.875\n",
      "4 -> 0.876\n",
      "5 -> 0.884\n",
      "6 -> 0.883\n",
      "7 -> 0.889\n",
      "8 -> 0.891\n",
      "9 -> 0.890\n",
      "10 -> 0.890\n",
      "11 -> 0.890\n",
      "12 -> 0.891\n",
      "13 -> 0.894\n",
      "14 -> 0.895\n",
      "15 -> 0.896\n",
      "16 -> 0.896\n",
      "17 -> 0.898\n",
      "18 -> 0.898\n",
      "19 -> 0.899\n",
      "\n",
      "depth: 14\n",
      "1 -> 0.868\n",
      "2 -> 0.867\n",
      "3 -> 0.870\n",
      "4 -> 0.875\n",
      "5 -> 0.878\n",
      "6 -> 0.880\n",
      "7 -> 0.885\n",
      "8 -> 0.887\n",
      "9 -> 0.885\n",
      "10 -> 0.886\n",
      "11 -> 0.889\n",
      "12 -> 0.891\n",
      "13 -> 0.893\n",
      "14 -> 0.896\n",
      "15 -> 0.897\n",
      "16 -> 0.897\n",
      "17 -> 0.898\n",
      "18 -> 0.898\n",
      "19 -> 0.900\n",
      "\n"
     ]
    }
   ],
   "source": [
    "for m in list(range(6,15,1)):\n",
    "    print('depth: %s' % m)\n",
    "\n",
    "    for s in list(range(1,20,1)):\n",
    "        dt = DecisionTreeClassifier(max_depth=m, min_samples_leaf=s)\n",
    "        dt.fit(X_train_scaled, y_train)\n",
    "        y_pred_proba = dt.predict_proba(X_val_scaled)[:, 1]\n",
    "        y_pred = (y_pred_proba >= 0.5).astype(int)\n",
    "        auc = roc_auc_score(y_val, y_pred_proba)\n",
    "        print('%s -> %.3f' % (s, auc))\n",
    "    \n",
    "    print()"
   ]
  },
  {
   "cell_type": "markdown",
   "id": "b670355f-7a64-436c-aa20-3a2c12e85462",
   "metadata": {},
   "source": [
    "### depth = 8, leaves = 2"
   ]
  },
  {
   "cell_type": "code",
   "execution_count": 154,
   "id": "341ee305-0e94-4d6e-9453-802bf1188f82",
   "metadata": {},
   "outputs": [
    {
     "name": "stdout",
     "output_type": "stream",
     "text": [
      "0.8586344559320299 0.7894736842105263 0.5543618392780404 0.9072188626856457\n"
     ]
    }
   ],
   "source": [
    "### retrain\n",
    "\n",
    "target_column = 'income'\n",
    "\n",
    "\n",
    "df_train_full, df_test = train_test_split(df, test_size=0.2, random_state=1)\n",
    "df_train, df_val = train_test_split(df_train_full, test_size=0.25, random_state=1)\n",
    "\n",
    "\n",
    "y_train = df_train[target_column]\n",
    "y_val = df_val[target_column]\n",
    "y_test = df_test[target_column]\n",
    "\n",
    "\n",
    "del df_train[target_column]\n",
    "del df_val[target_column]\n",
    "del df_test[target_column]\n",
    "\n",
    "# Initialize DictVectorizer with sparse=True\n",
    "dv = DictVectorizer(sparse=True)\n",
    "\n",
    "# Convert dataframes to dictionaries and apply DictVectorizer\n",
    "train_dicts = df_train.to_dict(orient='records')\n",
    "val_dicts = df_val.to_dict(orient='records')\n",
    "test_dicts = df_test.to_dict(orient='records')\n",
    "\n",
    "X_train = dv.fit_transform(train_dicts)\n",
    "X_val = dv.transform(val_dicts)\n",
    "X_test = dv.transform(test_dicts)\n",
    "\n",
    "scaler = StandardScaler(with_mean=False)\n",
    "\n",
    "X_train_scaled = scaler.fit_transform(X_train)\n",
    "X_val_scaled = scaler.transform(X_val)\n",
    "\n",
    "from sklearn.tree import DecisionTreeClassifier\n",
    "\n",
    "model_DT = DecisionTreeClassifier(max_depth=8, min_samples_leaf=2, random_state = 1)\n",
    "model_DT.fit(X_train_scaled, y_train)\n",
    "\n",
    "# Step 7: Make predictions and calculate metrics\n",
    "y_pred_proba = model_DT.predict_proba(X_val_scaled)[:, 1]\n",
    "y_pred = (y_pred_proba >= 0.5).astype(int)\n",
    "\n",
    "\n",
    "# Step 7: Make predictions and calculate metrics\n",
    "accuracy = accuracy_score(y_val, y_pred)\n",
    "precision = precision_score(y_val, y_pred)\n",
    "recall = recall_score(y_val, y_pred)\n",
    "roc_auc = roc_auc_score(y_val, y_pred_proba)\n",
    "\n",
    "print(accuracy, precision, recall, roc_auc)\n"
   ]
  },
  {
   "cell_type": "markdown",
   "id": "84dc32a5-6b44-4c7a-aeb7-fa86081eac84",
   "metadata": {},
   "source": [
    "## Random forest"
   ]
  },
  {
   "cell_type": "code",
   "execution_count": 155,
   "id": "af75015f-c231-42d3-af5a-76f858446e12",
   "metadata": {},
   "outputs": [],
   "source": [
    "from sklearn.ensemble import RandomForestClassifier"
   ]
  },
  {
   "cell_type": "code",
   "execution_count": 156,
   "id": "386b1c7d-0108-4be8-a6d3-a59705086e98",
   "metadata": {},
   "outputs": [
    {
     "name": "stdout",
     "output_type": "stream",
     "text": [
      "0.8483979936533934 0.6875 0.6665234207133649 0.8853692448358987\n"
     ]
    }
   ],
   "source": [
    "target_column = 'income'\n",
    "\n",
    "df_train_full, df_test = train_test_split(df, test_size=0.2, random_state=1)\n",
    "df_train, df_val = train_test_split(df_train_full, test_size=0.25, random_state=1)\n",
    "\n",
    "\n",
    "y_train = df_train[target_column]\n",
    "y_val = df_val[target_column]\n",
    "y_test = df_test[target_column]\n",
    "\n",
    "\n",
    "del df_train[target_column]\n",
    "del df_val[target_column]\n",
    "del df_test[target_column]\n",
    "\n",
    "# Initialize DictVectorizer with sparse=True\n",
    "dv = DictVectorizer(sparse=True)\n",
    "\n",
    "# Convert dataframes to dictionaries and apply DictVectorizer\n",
    "train_dicts = df_train.to_dict(orient='records')\n",
    "val_dicts = df_val.to_dict(orient='records')\n",
    "test_dicts = df_test.to_dict(orient='records')\n",
    "\n",
    "X_train = dv.fit_transform(train_dicts)\n",
    "X_val = dv.transform(val_dicts)\n",
    "X_test = dv.transform(test_dicts)\n",
    "\n",
    "scaler = StandardScaler(with_mean=False)\n",
    "\n",
    "X_train_scaled = scaler.fit_transform(X_train)\n",
    "X_val_scaled = scaler.transform(X_val)\n",
    "\n",
    "model_RF = RandomForestClassifier(n_estimators=10, random_state = 42)\n",
    "model_RF.fit(X_train_scaled, y_train)\n",
    "\n",
    "y_pred_proba = model_RF.predict_proba(X_val_scaled)[:, 1]\n",
    "y_pred = (y_pred_proba >= 0.5).astype(int)\n",
    "\n",
    "\n",
    "accuracy = accuracy_score(y_val, y_pred)\n",
    "precision = precision_score(y_val, y_pred)\n",
    "recall = recall_score(y_val, y_pred)\n",
    "roc_auc = roc_auc_score(y_val, y_pred_proba)\n",
    "\n",
    "print(accuracy, precision, recall, roc_auc)"
   ]
  },
  {
   "cell_type": "code",
   "execution_count": 160,
   "id": "9c7f9c63-f6ea-44cd-b66d-ddb976d55bf3",
   "metadata": {},
   "outputs": [
    {
     "name": "stdout",
     "output_type": "stream",
     "text": [
      "0.884 +- 0.002\n",
      "0.882 -- 0.886\n"
     ]
    }
   ],
   "source": [
    "import numpy as np\n",
    "\n",
    "aucs = []\n",
    "\n",
    "for i in range(100):\n",
    "    rf = RandomForestClassifier(n_estimators=10)\n",
    "    rf.fit(X_train_scaled, y_train)\n",
    "    y_pred_proba = rf.predict_proba(X_val_scaled)[:, 1]\n",
    "    y_pred = (y_pred_proba >= 0.5).astype(int)\n",
    "    auc = roc_auc_score(y_val, y_pred_proba)\n",
    "    aucs.append(auc)\n",
    "\n",
    "auc_mean = np.mean(aucs)\n",
    "auc_std = np.std(aucs)\n",
    "\n",
    "print('%.3f +- %.3f' % (auc_mean, auc_std))\n",
    "print('%.3f -- %.3f' % (auc_mean -  auc_std, auc_mean + auc_std))"
   ]
  },
  {
   "cell_type": "code",
   "execution_count": 162,
   "id": "4e2a00e4-92a4-4871-9eae-4067a001d778",
   "metadata": {},
   "outputs": [
    {
     "name": "stdout",
     "output_type": "stream",
     "text": [
      "10 -> 0.886\n",
      "20 -> 0.897\n",
      "30 -> 0.901\n",
      "40 -> 0.904\n",
      "50 -> 0.905\n",
      "60 -> 0.905\n",
      "70 -> 0.906\n",
      "80 -> 0.907\n",
      "90 -> 0.907\n",
      "100 -> 0.908\n",
      "110 -> 0.908\n",
      "120 -> 0.908\n",
      "130 -> 0.908\n",
      "140 -> 0.908\n",
      "150 -> 0.908\n",
      "160 -> 0.908\n",
      "170 -> 0.908\n",
      "180 -> 0.908\n",
      "190 -> 0.908\n",
      "200 -> 0.908\n"
     ]
    }
   ],
   "source": [
    "aucs = []\n",
    "\n",
    "for i in range(10, 201, 10):\n",
    "    rf = RandomForestClassifier(n_estimators=i, random_state=3)\n",
    "    rf.fit(X_train_scaled, y_train)\n",
    "    y_pred_proba = rf.predict_proba(X_val_scaled)[:, 1]\n",
    "    y_pred = (y_pred_proba >= 0.5).astype(int)\n",
    "    auc = roc_auc_score(y_val, y_pred_proba)\n",
    "    print('%s -> %.3f' % (i, auc))\n",
    "    aucs.append(auc)"
   ]
  },
  {
   "cell_type": "code",
   "execution_count": 164,
   "id": "e1233a4d-e0e8-49fc-8dc9-5b4ace21b754",
   "metadata": {},
   "outputs": [
    {
     "name": "stdout",
     "output_type": "stream",
     "text": [
      "depth: 5\n",
      "80 -> 0.904\n",
      "90 -> 0.904\n",
      "100 -> 0.904\n",
      "110 -> 0.905\n",
      "\n",
      "depth: 10\n",
      "80 -> 0.916\n",
      "90 -> 0.916\n",
      "100 -> 0.916\n",
      "110 -> 0.916\n",
      "\n",
      "depth: 20\n",
      "80 -> 0.921\n",
      "90 -> 0.921\n",
      "100 -> 0.921\n",
      "110 -> 0.921\n",
      "\n"
     ]
    }
   ],
   "source": [
    "\n",
    "all_aucs = {}\n",
    "\n",
    "for depth in [5, 10, 20]:\n",
    "    print('depth: %s' % depth)\n",
    "    aucs = []\n",
    "\n",
    "    for i in range(80, 120, 10):\n",
    "        rf = RandomForestClassifier(n_estimators=i, max_depth=depth, random_state=1)\n",
    "        rf.fit(X_train_scaled, y_train)\n",
    "        y_pred_proba = rf.predict_proba(X_val_scaled)[:, 1]\n",
    "        y_pred = (y_pred_proba >= 0.5).astype(int)\n",
    "        auc = roc_auc_score(y_val, y_pred_proba)\n",
    "        print('%s -> %.3f' % (i, auc))\n",
    "        aucs.append(auc)\n",
    "    \n",
    "    all_aucs[depth] = aucs\n",
    "    print()"
   ]
  },
  {
   "cell_type": "code",
   "execution_count": 166,
   "id": "a4b1b857-be9a-4c65-bdc4-6b5b16261bc5",
   "metadata": {},
   "outputs": [
    {
     "name": "stdout",
     "output_type": "stream",
     "text": [
      "min_samples_leaf: 3\n",
      "80 -> 0.922\n",
      "90 -> 0.922\n",
      "100 -> 0.922\n",
      "\n",
      "min_samples_leaf: 4\n",
      "80 -> 0.922\n",
      "90 -> 0.921\n",
      "100 -> 0.922\n",
      "\n",
      "min_samples_leaf: 5\n",
      "80 -> 0.922\n",
      "90 -> 0.922\n",
      "100 -> 0.922\n",
      "\n",
      "min_samples_leaf: 6\n",
      "80 -> 0.921\n",
      "90 -> 0.921\n",
      "100 -> 0.921\n",
      "\n",
      "min_samples_leaf: 7\n",
      "80 -> 0.920\n",
      "90 -> 0.920\n",
      "100 -> 0.921\n",
      "\n",
      "min_samples_leaf: 8\n",
      "80 -> 0.921\n",
      "90 -> 0.921\n",
      "100 -> 0.921\n",
      "\n",
      "min_samples_leaf: 9\n",
      "80 -> 0.920\n",
      "90 -> 0.920\n",
      "100 -> 0.920\n",
      "\n",
      "min_samples_leaf: 10\n",
      "80 -> 0.920\n",
      "90 -> 0.920\n",
      "100 -> 0.920\n",
      "\n"
     ]
    }
   ],
   "source": [
    "all_aucs = {}\n",
    "\n",
    "for m in range(3,11):\n",
    "    print('min_samples_leaf: %s' % m)\n",
    "    aucs = []\n",
    "\n",
    "    for i in range(80, 110, 10):\n",
    "        rf = RandomForestClassifier(n_estimators=i, max_depth=20, min_samples_leaf=m, random_state=1)\n",
    "        rf.fit(X_train_scaled, y_train)\n",
    "        y_pred_proba = rf.predict_proba(X_val_scaled)[:, 1]\n",
    "        y_pred = (y_pred_proba >= 0.5).astype(int)\n",
    "        auc = roc_auc_score(y_val, y_pred_proba)\n",
    "        print('%s -> %.3f' % (i, auc))\n",
    "        aucs.append(auc)\n",
    "    \n",
    "    all_aucs[m] = aucs\n",
    "    print()"
   ]
  },
  {
   "cell_type": "code",
   "execution_count": 167,
   "id": "4f453bb7-b441-40c0-9f86-9fb922e86743",
   "metadata": {},
   "outputs": [
    {
     "name": "stdout",
     "output_type": "stream",
     "text": [
      "0.8677449073600164 0.8017492711370262 0.5908895573700043 0.9224737771555698\n"
     ]
    }
   ],
   "source": [
    "## retrain random forest\n",
    "\n",
    "target_column = 'income'\n",
    "\n",
    "df_train_full, df_test = train_test_split(df, test_size=0.2, random_state=1)\n",
    "df_train, df_val = train_test_split(df_train_full, test_size=0.25, random_state=1)\n",
    "\n",
    "\n",
    "y_train = df_train[target_column]\n",
    "y_val = df_val[target_column]\n",
    "y_test = df_test[target_column]\n",
    "\n",
    "\n",
    "del df_train[target_column]\n",
    "del df_val[target_column]\n",
    "del df_test[target_column]\n",
    "\n",
    "# Initialize DictVectorizer with sparse=True\n",
    "dv = DictVectorizer(sparse=True)\n",
    "\n",
    "# Convert dataframes to dictionaries and apply DictVectorizer\n",
    "train_dicts = df_train.to_dict(orient='records')\n",
    "val_dicts = df_val.to_dict(orient='records')\n",
    "test_dicts = df_test.to_dict(orient='records')\n",
    "\n",
    "X_train = dv.fit_transform(train_dicts)\n",
    "X_val = dv.transform(val_dicts)\n",
    "X_test = dv.transform(test_dicts)\n",
    "\n",
    "scaler = StandardScaler(with_mean=False)\n",
    "\n",
    "X_train_scaled = scaler.fit_transform(X_train)\n",
    "X_val_scaled = scaler.transform(X_val)\n",
    "\n",
    "model_RF = RandomForestClassifier(n_estimators=80, max_depth = 20, min_samples_leaf = 3, random_state =1)\n",
    "model_RF.fit(X_train_scaled, y_train)\n",
    "y_pred_proba = model_RF.predict_proba(X_val_scaled)[:, 1]\n",
    "\n",
    "y_pred = (y_pred_proba >= 0.5).astype(int)\n",
    "\n",
    "\n",
    "accuracy = accuracy_score(y_val, y_pred)\n",
    "precision = precision_score(y_val, y_pred)\n",
    "recall = recall_score(y_val, y_pred)\n",
    "roc_auc = roc_auc_score(y_val, y_pred_proba)\n",
    "\n",
    "print(accuracy, precision, recall, roc_auc)\n"
   ]
  },
  {
   "cell_type": "code",
   "execution_count": 102,
   "id": "00385dce-5cf1-4ed8-a836-eebad070ad89",
   "metadata": {},
   "outputs": [
    {
     "data": {
      "text/plain": [
       "0.9202991892494624"
      ]
     },
     "execution_count": 102,
     "metadata": {},
     "output_type": "execute_result"
    }
   ],
   "source": [
    "auc"
   ]
  },
  {
   "cell_type": "markdown",
   "id": "188e548e-33dd-44e7-9ccd-b181fa5dbcb4",
   "metadata": {},
   "source": [
    "### XGBoost"
   ]
  },
  {
   "cell_type": "code",
   "execution_count": 168,
   "id": "fdde0b94-db5e-44db-9268-e02086c0cb35",
   "metadata": {},
   "outputs": [],
   "source": [
    "import xgboost as xgb"
   ]
  },
  {
   "cell_type": "code",
   "execution_count": 176,
   "id": "e755fac3-7d23-49ca-9409-0f66b402264d",
   "metadata": {},
   "outputs": [
    {
     "name": "stdout",
     "output_type": "stream",
     "text": [
      "Accuracy: 0.8634, Precision: 0.7566, Recall: 0.6291, ROC AUC: 0.9179\n"
     ]
    }
   ],
   "source": [
    "target_column = 'income'\n",
    "\n",
    "df_train_full, df_test = train_test_split(df, test_size=0.2, random_state=1)\n",
    "df_train, df_val = train_test_split(df_train_full, test_size=0.25, random_state=1)\n",
    "\n",
    "\n",
    "y_train = df_train[target_column]\n",
    "y_val = df_val[target_column]\n",
    "y_test = df_test[target_column]\n",
    "\n",
    "\n",
    "del df_train[target_column]\n",
    "del df_val[target_column]\n",
    "del df_test[target_column]\n",
    "\n",
    "# Initialize DictVectorizer with sparse=True\n",
    "dv = DictVectorizer(sparse=True)\n",
    "\n",
    "# Convert dataframes to dictionaries and apply DictVectorizer\n",
    "train_dicts = df_train.to_dict(orient='records')\n",
    "val_dicts = df_val.to_dict(orient='records')\n",
    "test_dicts = df_test.to_dict(orient='records')\n",
    "\n",
    "X_train = dv.fit_transform(train_dicts)\n",
    "X_val = dv.transform(val_dicts)\n",
    "X_test = dv.transform(test_dicts)\n",
    "\n",
    "scaler = StandardScaler(with_mean=False)\n",
    "\n",
    "X_train_scaled = scaler.fit_transform(X_train)\n",
    "X_val_scaled = scaler.transform(X_val)\n",
    "\n",
    "\n",
    "dtrain = xgb.DMatrix(X_train_scaled, label=y_train, feature_names=dv.feature_names_)\n",
    "dval = xgb.DMatrix(X_val_scaled, label=y_val, feature_names=dv.feature_names_)\n",
    "\n",
    "xgb_params = {\n",
    "    'eta': 0.5,\n",
    "    'max_depth': 20,\n",
    "    'min_child_weight': 1,\n",
    "\n",
    "    'objective': 'binary:logistic',\n",
    "    'nthread': 8,\n",
    "    'seed': 1\n",
    "}\n",
    "\n",
    "model_XGB = xgb.train(xgb_params, dtrain, num_boost_round=10)\n",
    "\n",
    "dval_predict = xgb.DMatrix(X_val_scaled, feature_names=dv.feature_names_)\n",
    "\n",
    "y_pred_proba = model_XGB.predict(dval_predict)\n",
    "\n",
    "# Convert probabilities to binary predictions (threshold 0.5)\n",
    "y_pred = (y_pred_proba >= 0.5).astype(int)\n",
    "\n",
    "\n",
    "\n",
    "accuracy = accuracy_score(y_val, y_pred)\n",
    "precision = precision_score(y_val, y_pred)\n",
    "recall = recall_score(y_val, y_pred)\n",
    "roc_auc = roc_auc_score(y_val, y_pred_proba)  # Use probabilities for ROC AUC\n",
    "\n",
    "# Print metrics\n",
    "print(f\"Accuracy: {accuracy:.4f}, Precision: {precision:.4f}, Recall: {recall:.4f}, ROC AUC: {roc_auc:.4f}\")\n"
   ]
  },
  {
   "cell_type": "code",
   "execution_count": 178,
   "id": "9c123dd7-2479-494c-92eb-73db7cc417d4",
   "metadata": {},
   "outputs": [],
   "source": [
    "watchlist = [(dtrain, 'train'), (dval, 'val')]"
   ]
  },
  {
   "cell_type": "code",
   "execution_count": 182,
   "id": "9a3b1f8a-f4df-4544-aef0-4dba589665f5",
   "metadata": {},
   "outputs": [
    {
     "name": "stdout",
     "output_type": "stream",
     "text": [
      "[0]\ttrain-logloss:0.35792\tval-logloss:0.38815\n",
      "[5]\ttrain-logloss:0.18332\tval-logloss:0.29993\n",
      "[10]\ttrain-logloss:0.14536\tval-logloss:0.29912\n",
      "[15]\ttrain-logloss:0.12994\tval-logloss:0.30303\n",
      "[20]\ttrain-logloss:0.10806\tval-logloss:0.31267\n",
      "[25]\ttrain-logloss:0.08756\tval-logloss:0.32429\n",
      "[30]\ttrain-logloss:0.07851\tval-logloss:0.33088\n",
      "[35]\ttrain-logloss:0.06572\tval-logloss:0.34259\n",
      "[40]\ttrain-logloss:0.05884\tval-logloss:0.35048\n",
      "[45]\ttrain-logloss:0.04970\tval-logloss:0.36169\n",
      "[50]\ttrain-logloss:0.04561\tval-logloss:0.36794\n",
      "[55]\ttrain-logloss:0.03988\tval-logloss:0.37740\n",
      "[60]\ttrain-logloss:0.03679\tval-logloss:0.38396\n",
      "[65]\ttrain-logloss:0.03313\tval-logloss:0.39193\n",
      "[70]\ttrain-logloss:0.02990\tval-logloss:0.39961\n",
      "[75]\ttrain-logloss:0.02819\tval-logloss:0.40479\n",
      "[80]\ttrain-logloss:0.02611\tval-logloss:0.40893\n",
      "[85]\ttrain-logloss:0.02503\tval-logloss:0.41269\n",
      "[90]\ttrain-logloss:0.02387\tval-logloss:0.41568\n",
      "[95]\ttrain-logloss:0.02260\tval-logloss:0.42111\n",
      "[99]\ttrain-logloss:0.02154\tval-logloss:0.42412\n"
     ]
    }
   ],
   "source": [
    "%%capture output\n",
    "\n",
    "model = xgb.train(xgb_params, dtrain,\n",
    "                  num_boost_round=100,\n",
    "                  evals=watchlist, verbose_eval=5)"
   ]
  },
  {
   "cell_type": "code",
   "execution_count": 180,
   "id": "4d623297-956d-42ef-ae9f-3eb83ba8507e",
   "metadata": {},
   "outputs": [
    {
     "name": "stdout",
     "output_type": "stream",
     "text": [
      "[0]\ttrain-logloss:0.35792\tval-logloss:0.38815\n",
      "[10]\ttrain-logloss:0.14536\tval-logloss:0.29912\n",
      "[20]\ttrain-logloss:0.10806\tval-logloss:0.31267\n",
      "[30]\ttrain-logloss:0.07851\tval-logloss:0.33088\n",
      "[40]\ttrain-logloss:0.05884\tval-logloss:0.35048\n",
      "[50]\ttrain-logloss:0.04561\tval-logloss:0.36794\n",
      "[60]\ttrain-logloss:0.03679\tval-logloss:0.38396\n",
      "[70]\ttrain-logloss:0.02990\tval-logloss:0.39961\n",
      "[80]\ttrain-logloss:0.02611\tval-logloss:0.40893\n",
      "[90]\ttrain-logloss:0.02387\tval-logloss:0.41568\n",
      "[99]\ttrain-logloss:0.02154\tval-logloss:0.42412\n"
     ]
    }
   ],
   "source": [
    "\n",
    "model = xgb.train(xgb_params, dtrain,\n",
    "                  num_boost_round=100,\n",
    "                  evals=watchlist, verbose_eval=10)"
   ]
  },
  {
   "cell_type": "code",
   "execution_count": 183,
   "id": "1bb3f75b-be6d-42fc-a5a2-23829b862af7",
   "metadata": {},
   "outputs": [],
   "source": [
    "def parse_xgb_output(output):\n",
    "    tree = []\n",
    "    aucs_train = []\n",
    "    aucs_val = []\n",
    "\n",
    "    for line in output.stdout.strip().split('\\n'):\n",
    "        it_line, train_line, val_line = line.split('\\t')\n",
    "\n",
    "        it = int(it_line.strip('[]'))\n",
    "        train = float(train_line.split(':')[1])\n",
    "        val = float(val_line.split(':')[1])\n",
    "\n",
    "        tree.append(it)\n",
    "        aucs_train.append(train)\n",
    "        aucs_val.append(val)\n",
    "\n",
    "    return tree, aucs_train, aucs_val"
   ]
  },
  {
   "cell_type": "code",
   "execution_count": 184,
   "id": "1c15779d-6e91-485c-b00a-72c075554940",
   "metadata": {},
   "outputs": [],
   "source": [
    "tree, aucs_train, aucs_val = parse_xgb_output(output)"
   ]
  },
  {
   "cell_type": "code",
   "execution_count": 185,
   "id": "b44536ec-3ea0-4ebb-824b-7a77291c65ec",
   "metadata": {},
   "outputs": [
    {
     "data": {
      "image/png": "[encoded data removed]",
      "text/plain": [
       "<Figure size 600x400 with 1 Axes>"
      ]
     },
     "metadata": {},
     "output_type": "display_data"
    }
   ],
   "source": [
    "plt.figure(figsize=(6, 4))\n",
    "\n",
    "plt.plot(tree, aucs_train, color='black', linestyle='dashed', label='Train AUC')\n",
    "plt.plot(tree, aucs_val, color='black', linestyle='solid', label='Validation AUC')\n",
    "plt.xticks(range(0, 101, 25))\n",
    "\n",
    "plt.legend()\n",
    "\n",
    "plt.title('XGBoost: number of trees vs AUC')\n",
    "plt.xlabel('Number of trees')\n",
    "plt.ylabel('AUC')\n",
    "\n",
    "# plt.savefig('ch06-figures/06_xgb_default.svg')\n",
    "\n",
    "plt.show()"
   ]
  },
  {
   "cell_type": "markdown",
   "id": "95a5aa23-f827-4078-9486-28855c12039c",
   "metadata": {},
   "source": [
    "#### eta"
   ]
  },
  {
   "cell_type": "code",
   "execution_count": 186,
   "id": "816015dd-c7e9-45bd-ad7e-447949d81405",
   "metadata": {},
   "outputs": [],
   "source": [
    "%%capture output\n",
    "\n",
    "xgb_params = {\n",
    "    'eta': 0.3,\n",
    "    'max_depth': 6,\n",
    "    'min_child_weight': 1,\n",
    "\n",
    "    'objective': 'binary:logistic',\n",
    "    'eval_metric': 'auc',\n",
    "    'nthread': 8,\n",
    "    'seed': 1,\n",
    "}\n",
    "\n",
    "model = xgb.train(xgb_params, dtrain,\n",
    "                  num_boost_round=500, verbose_eval=10,\n",
    "                  evals=watchlist)"
   ]
  },
  {
   "cell_type": "code",
   "execution_count": 187,
   "id": "a01ef0e2-001d-4868-bb5f-7fd799897f9e",
   "metadata": {},
   "outputs": [
    {
     "name": "stdout",
     "output_type": "stream",
     "text": [
      "0.93167\n",
      "(0.93167, 50)\n"
     ]
    }
   ],
   "source": [
    "tree, _, aucs_val_eta_03 = parse_xgb_output(output)\n",
    "print(max(aucs_val_eta_03))\n",
    "print(max(zip(aucs_val_eta_03, tree)))"
   ]
  },
  {
   "cell_type": "code",
   "execution_count": 190,
   "id": "2b546f1e-9ff3-4829-999c-31bd0b0af9c6",
   "metadata": {},
   "outputs": [],
   "source": [
    "%%capture output\n",
    "\n",
    "xgb_params = {\n",
    "    'eta': 0.1,\n",
    "    'max_depth': 6,\n",
    "    'min_child_weight': 1,\n",
    "\n",
    "    'objective': 'binary:logistic',\n",
    "    'eval_metric': 'auc',\n",
    "    'nthread': 8,\n",
    "    'seed': 1,\n",
    "}\n",
    "\n",
    "model = xgb.train(xgb_params, dtrain,\n",
    "                  num_boost_round=500, verbose_eval=10,\n",
    "                  evals=watchlist)\n",
    "\n"
   ]
  },
  {
   "cell_type": "code",
   "execution_count": 191,
   "id": "64ab3839-4b47-4bf4-abc3-d9850ec2979e",
   "metadata": {},
   "outputs": [
    {
     "name": "stdout",
     "output_type": "stream",
     "text": [
      "0.93331\n",
      "(0.93331, 170)\n"
     ]
    }
   ],
   "source": [
    "tree, _, aucs_val_eta_01 = parse_xgb_output(output)\n",
    "print(max(aucs_val_eta_01))\n",
    "print(max(zip(aucs_val_eta_01, tree)))"
   ]
  },
  {
   "cell_type": "code",
   "execution_count": 192,
   "id": "853de556-b01a-4b6e-a9c3-cabe269bd1d0",
   "metadata": {},
   "outputs": [],
   "source": [
    "%%capture output\n",
    "\n",
    "xgb_params = {\n",
    "    'eta': 0.05,\n",
    "    'max_depth': 6,\n",
    "    'min_child_weight': 1,\n",
    "\n",
    "    'objective': 'binary:logistic',\n",
    "    'eval_metric': 'auc',\n",
    "    'nthread': 8,\n",
    "    'seed': 1,\n",
    "}\n",
    "\n",
    "model = xgb.train(xgb_params, dtrain,\n",
    "                  num_boost_round=500, verbose_eval=10,\n",
    "                  evals=watchlist)"
   ]
  },
  {
   "cell_type": "code",
   "execution_count": 193,
   "id": "be645a9b-e012-4cda-8266-fab31a030dda",
   "metadata": {},
   "outputs": [
    {
     "name": "stdout",
     "output_type": "stream",
     "text": [
      "0.93352\n",
      "(0.93352, 440)\n"
     ]
    }
   ],
   "source": [
    "tree, _, aucs_val_eta_005 = parse_xgb_output(output)\n",
    "print(max(aucs_val_eta_005))\n",
    "print(max(zip(aucs_val_eta_005, tree)))"
   ]
  },
  {
   "cell_type": "code",
   "execution_count": 194,
   "id": "98d0d9a5-1f02-4780-bb30-7bbbc95ab5ec",
   "metadata": {},
   "outputs": [],
   "source": [
    "%%capture output\n",
    "\n",
    "xgb_params = {\n",
    "    'eta': 0.01,\n",
    "    'max_depth': 6,\n",
    "    'min_child_weight': 1,\n",
    "\n",
    "    'objective': 'binary:logistic',\n",
    "    'eval_metric': 'auc',\n",
    "    'nthread': 8,\n",
    "    'seed': 1,\n",
    "}\n",
    "\n",
    "model = xgb.train(xgb_params, dtrain,\n",
    "                  num_boost_round=500, verbose_eval=10,\n",
    "                  evals=watchlist)"
   ]
  },
  {
   "cell_type": "code",
   "execution_count": 195,
   "id": "84da5a01-ab02-434c-a5a1-738104cf6d9c",
   "metadata": {},
   "outputs": [
    {
     "name": "stdout",
     "output_type": "stream",
     "text": [
      "0.92703\n",
      "(0.92703, 499)\n"
     ]
    }
   ],
   "source": [
    "tree, _, aucs_val_eta_001 = parse_xgb_output(output)\n",
    "print(max(aucs_val_eta_001))\n",
    "print(max(zip(aucs_val_eta_001, tree)))"
   ]
  },
  {
   "cell_type": "code",
   "execution_count": 196,
   "id": "5dc6e3d0-b221-4ec2-91e0-fe6add815aa9",
   "metadata": {},
   "outputs": [],
   "source": [
    "%%capture output\n",
    "\n",
    "xgb_params = {\n",
    "    'eta': 0.02,\n",
    "    'max_depth': 6,\n",
    "    'min_child_weight': 1,\n",
    "\n",
    "    'objective': 'binary:logistic',\n",
    "    'eval_metric': 'auc',\n",
    "    'nthread': 8,\n",
    "    'seed': 1,\n",
    "}\n",
    "\n",
    "model = xgb.train(xgb_params, dtrain,\n",
    "                  num_boost_round=500, verbose_eval=10,\n",
    "                  evals=watchlist)"
   ]
  },
  {
   "cell_type": "code",
   "execution_count": 197,
   "id": "9f50810d-c5b0-46f5-b5eb-04bb7f8e41fa",
   "metadata": {},
   "outputs": [
    {
     "name": "stdout",
     "output_type": "stream",
     "text": [
      "0.93234\n",
      "(0.93234, 499)\n"
     ]
    }
   ],
   "source": [
    "tree, _, aucs_val_eta_002 = parse_xgb_output(output)\n",
    "print(max(aucs_val_eta_002))\n",
    "print(max(zip(aucs_val_eta_002, tree)))"
   ]
  },
  {
   "cell_type": "code",
   "execution_count": 198,
   "id": "a269101d-4dd4-4e4d-a7aa-50b44dd52395",
   "metadata": {},
   "outputs": [],
   "source": [
    "%%capture output\n",
    "\n",
    "xgb_params = {\n",
    "    'eta': 0.06,\n",
    "    'max_depth': 6,\n",
    "    'min_child_weight': 1,\n",
    "\n",
    "    'objective': 'binary:logistic',\n",
    "    'eval_metric': 'auc',\n",
    "    'nthread': 8,\n",
    "    'seed': 1,\n",
    "}\n",
    "\n",
    "model = xgb.train(xgb_params, dtrain,\n",
    "                  num_boost_round=500, verbose_eval=10,\n",
    "                  evals=watchlist)"
   ]
  },
  {
   "cell_type": "code",
   "execution_count": 199,
   "id": "609823a2-eeec-4f61-a3ab-688cf64f261f",
   "metadata": {},
   "outputs": [
    {
     "name": "stdout",
     "output_type": "stream",
     "text": [
      "0.93347\n",
      "(0.93347, 410)\n"
     ]
    }
   ],
   "source": [
    "tree, _, aucs_val_eta_006 = parse_xgb_output(output)\n",
    "print(max(aucs_val_eta_006))\n",
    "print(max(zip(aucs_val_eta_006, tree)))"
   ]
  },
  {
   "cell_type": "code",
   "execution_count": 200,
   "id": "60c7353b-b826-40a9-bcc7-f6db1cfa45a2",
   "metadata": {},
   "outputs": [],
   "source": [
    "%%capture output\n",
    "\n",
    "xgb_params = {\n",
    "    'eta': 0.04,\n",
    "    'max_depth': 6,\n",
    "    'min_child_weight': 1,\n",
    "\n",
    "    'objective': 'binary:logistic',\n",
    "    'eval_metric': 'auc',\n",
    "    'nthread': 8,\n",
    "    'seed': 1,\n",
    "}\n",
    "\n",
    "model = xgb.train(xgb_params, dtrain,\n",
    "                  num_boost_round=500, verbose_eval=10,\n",
    "                  evals=watchlist)"
   ]
  },
  {
   "cell_type": "code",
   "execution_count": 201,
   "id": "71308749-0dff-4b31-b982-4688ec20e3a8",
   "metadata": {},
   "outputs": [
    {
     "name": "stdout",
     "output_type": "stream",
     "text": [
      "0.9333\n",
      "(0.9333, 499)\n"
     ]
    }
   ],
   "source": [
    "tree, _, aucs_val_eta_004 = parse_xgb_output(output)\n",
    "print(max(aucs_val_eta_004))\n",
    "print(max(zip(aucs_val_eta_004, tree)))"
   ]
  },
  {
   "cell_type": "markdown",
   "id": "c4872385-bea6-48c7-9013-6bfb5da3fbe5",
   "metadata": {},
   "source": [
    "#### max-depth"
   ]
  },
  {
   "cell_type": "code",
   "execution_count": 202,
   "id": "73082b09-d21e-41de-864f-89704c4d37b5",
   "metadata": {},
   "outputs": [],
   "source": [
    "%%capture output\n",
    "\n",
    "xgb_params = {\n",
    "    'eta': 0.05,\n",
    "    'max_depth': 3,\n",
    "    'min_child_weight': 1,\n",
    "\n",
    "    'objective': 'binary:logistic',\n",
    "    'eval_metric': 'auc',\n",
    "    'nthread': 8,\n",
    "    'seed': 1,\n",
    "}\n",
    "\n",
    "model = xgb.train(xgb_params, dtrain,\n",
    "                  num_boost_round=500, verbose_eval=10,\n",
    "                  evals=watchlist)"
   ]
  },
  {
   "cell_type": "code",
   "execution_count": 203,
   "id": "ea9411ec-dad4-4343-af80-c8ebf22b89b8",
   "metadata": {},
   "outputs": [
    {
     "name": "stdout",
     "output_type": "stream",
     "text": [
      "0.93081\n",
      "(0.93081, 499)\n"
     ]
    }
   ],
   "source": [
    "tree, _, aucs_val_depth3 = parse_xgb_output(output)\n",
    "print(max(aucs_val_depth3))\n",
    "print(max(zip(aucs_val_depth3, tree)))"
   ]
  },
  {
   "cell_type": "code",
   "execution_count": 204,
   "id": "5eaf0fcd-dda4-4431-b3db-0c106f294e10",
   "metadata": {},
   "outputs": [],
   "source": [
    "%%capture output\n",
    "\n",
    "xgb_params = {\n",
    "    'eta': 0.05,\n",
    "    'max_depth': 10,\n",
    "    'min_child_weight': 1,\n",
    "\n",
    "    'objective': 'binary:logistic',\n",
    "    'eval_metric': 'auc',\n",
    "    'nthread': 8,\n",
    "    'seed': 1,\n",
    "}\n",
    "\n",
    "model = xgb.train(xgb_params, dtrain,\n",
    "                  num_boost_round=500, verbose_eval=10,\n",
    "                  evals=watchlist)"
   ]
  },
  {
   "cell_type": "code",
   "execution_count": 205,
   "id": "a5c6e815-5134-43cf-8a70-ae6455612497",
   "metadata": {},
   "outputs": [
    {
     "name": "stdout",
     "output_type": "stream",
     "text": [
      "0.93124\n",
      "(0.93124, 220)\n"
     ]
    }
   ],
   "source": [
    "tree, _, aucs_val_depth10 = parse_xgb_output(output)\n",
    "print(max(aucs_val_depth10))\n",
    "print(max(zip(aucs_val_depth10, tree)))"
   ]
  },
  {
   "cell_type": "code",
   "execution_count": 219,
   "id": "78fa38a9-6da3-4b99-9d78-a98d27fa8a49",
   "metadata": {},
   "outputs": [],
   "source": [
    "%%capture output\n",
    "\n",
    "xgb_params = {\n",
    "    'eta': 0.05,\n",
    "    'max_depth': 5,\n",
    "    'min_child_weight': 1,\n",
    "\n",
    "    'objective': 'binary:logistic',\n",
    "    'eval_metric': 'auc',\n",
    "    'nthread': 8,\n",
    "    'seed': 1,\n",
    "}\n",
    "\n",
    "model = xgb.train(xgb_params, dtrain,\n",
    "                  num_boost_round=500, verbose_eval=10,\n",
    "                  evals=watchlist)"
   ]
  },
  {
   "cell_type": "code",
   "execution_count": 220,
   "id": "f1da3c61-1aa3-4e7b-8606-191886477471",
   "metadata": {},
   "outputs": [
    {
     "name": "stdout",
     "output_type": "stream",
     "text": [
      "0.93372\n",
      "(0.93372, 499)\n"
     ]
    }
   ],
   "source": [
    "tree, _, aucs_val_depth10 = parse_xgb_output(output)\n",
    "print(max(aucs_val_depth10))\n",
    "print(max(zip(aucs_val_depth10, tree)))"
   ]
  },
  {
   "cell_type": "markdown",
   "id": "89f517a5-4096-4a32-9ee5-c19b01c241bf",
   "metadata": {},
   "source": [
    "#### min_child_weight"
   ]
  },
  {
   "cell_type": "code",
   "execution_count": 221,
   "id": "fdab280f-6f25-4949-b45b-1e1bb9bd13e5",
   "metadata": {},
   "outputs": [],
   "source": [
    "%%capture output\n",
    "\n",
    "xgb_params = {\n",
    "    'eta': 0.05,\n",
    "    'max_depth': 5,\n",
    "    'min_child_weight': 10,\n",
    "\n",
    "    'objective': 'binary:logistic',\n",
    "    'eval_metric': 'auc',\n",
    "    'nthread': 8,\n",
    "    'seed': 1,\n",
    "}\n",
    "\n",
    "model = xgb.train(xgb_params, dtrain,\n",
    "                  num_boost_round=500, verbose_eval=10,\n",
    "                  evals=watchlist)"
   ]
  },
  {
   "cell_type": "code",
   "execution_count": 222,
   "id": "ba55272a-45c1-4b03-8c84-b8d458a51600",
   "metadata": {},
   "outputs": [
    {
     "name": "stdout",
     "output_type": "stream",
     "text": [
      "0.9322\n",
      "(0.9322, 499)\n"
     ]
    }
   ],
   "source": [
    "tree, _, aucs_val_mcw1 = parse_xgb_output(output)\n",
    "print(max(aucs_val_mcw1))\n",
    "print(max(zip(aucs_val_mcw1, tree)))"
   ]
  },
  {
   "cell_type": "code",
   "execution_count": 245,
   "id": "c44a1d03-a3b8-4187-bd8f-8e2e08999a6a",
   "metadata": {},
   "outputs": [],
   "source": [
    "%%capture output\n",
    "\n",
    "xgb_params = {\n",
    "    'eta': 0.05,\n",
    "    'max_depth': 5,\n",
    "    'min_child_weight': 4,\n",
    "\n",
    "    'objective': 'binary:logistic',\n",
    "    'eval_metric': 'auc',\n",
    "    'nthread': 8,\n",
    "    'seed': 1,\n",
    "}\n",
    "\n",
    "model = xgb.train(xgb_params, dtrain,\n",
    "                  num_boost_round=500, verbose_eval=10,\n",
    "                  evals=watchlist)"
   ]
  },
  {
   "cell_type": "code",
   "execution_count": 246,
   "id": "2b16cf1c-cc14-48f7-9363-2e212eebe001",
   "metadata": {},
   "outputs": [
    {
     "name": "stdout",
     "output_type": "stream",
     "text": [
      "0.93298\n",
      "(0.93298, 470)\n"
     ]
    }
   ],
   "source": [
    "tree, _, aucs_val_mcw1 = parse_xgb_output(output)\n",
    "print(max(aucs_val_mcw1))\n",
    "print(max(zip(aucs_val_mcw1, tree)))"
   ]
  },
  {
   "cell_type": "code",
   "execution_count": 247,
   "id": "740e2f01-7a1a-4a3e-beef-3c01ee091aa5",
   "metadata": {},
   "outputs": [],
   "source": [
    "%%capture output\n",
    "\n",
    "xgb_params = {\n",
    "    'eta': 0.05,\n",
    "    'max_depth': 5,\n",
    "    'min_child_weight': 1,\n",
    "\n",
    "    'objective': 'binary:logistic',\n",
    "    'eval_metric': 'auc',\n",
    "    'nthread': 8,\n",
    "    'seed': 1,\n",
    "}\n",
    "\n",
    "model = xgb.train(xgb_params, dtrain,\n",
    "                  num_boost_round=500, verbose_eval=10,\n",
    "                  evals=watchlist)"
   ]
  },
  {
   "cell_type": "code",
   "execution_count": 248,
   "id": "2201378d-9bda-49c7-941f-b73c4247dfe5",
   "metadata": {},
   "outputs": [
    {
     "name": "stdout",
     "output_type": "stream",
     "text": [
      "[0]\ttrain-auc:0.88377\tval-auc:0.88804\n",
      "[10]\ttrain-auc:0.90536\tval-auc:0.90703\n",
      "[20]\ttrain-auc:0.90877\tval-auc:0.90990\n",
      "[30]\ttrain-auc:0.91233\tval-auc:0.91307\n",
      "[40]\ttrain-auc:0.91543\tval-auc:0.91558\n",
      "[50]\ttrain-auc:0.91743\tval-auc:0.91726\n",
      "[60]\ttrain-auc:0.91978\tval-auc:0.91935\n",
      "[70]\ttrain-auc:0.92226\tval-auc:0.92151\n",
      "[80]\ttrain-auc:0.92425\tval-auc:0.92333\n",
      "[90]\ttrain-auc:0.92570\tval-auc:0.92462\n",
      "[100]\ttrain-auc:0.92703\tval-auc:0.92567\n",
      "[110]\ttrain-auc:0.92818\tval-auc:0.92653\n",
      "[120]\ttrain-auc:0.92953\tval-auc:0.92748\n",
      "[130]\ttrain-auc:0.93071\tval-auc:0.92830\n",
      "[140]\ttrain-auc:0.93188\tval-auc:0.92929\n",
      "[150]\ttrain-auc:0.93284\tval-auc:0.92989\n",
      "[160]\ttrain-auc:0.93370\tval-auc:0.93041\n",
      "[170]\ttrain-auc:0.93444\tval-auc:0.93089\n",
      "[180]\ttrain-auc:0.93512\tval-auc:0.93113\n",
      "[190]\ttrain-auc:0.93558\tval-auc:0.93139\n",
      "[200]\ttrain-auc:0.93619\tval-auc:0.93170\n",
      "[210]\ttrain-auc:0.93666\tval-auc:0.93182\n",
      "[220]\ttrain-auc:0.93713\tval-auc:0.93204\n",
      "[230]\ttrain-auc:0.93764\tval-auc:0.93218\n",
      "[240]\ttrain-auc:0.93793\tval-auc:0.93225\n",
      "[250]\ttrain-auc:0.93831\tval-auc:0.93230\n",
      "[260]\ttrain-auc:0.93864\tval-auc:0.93237\n",
      "[270]\ttrain-auc:0.93900\tval-auc:0.93248\n",
      "[280]\ttrain-auc:0.93945\tval-auc:0.93257\n",
      "[290]\ttrain-auc:0.93976\tval-auc:0.93265\n",
      "[300]\ttrain-auc:0.94002\tval-auc:0.93268\n",
      "[310]\ttrain-auc:0.94031\tval-auc:0.93275\n",
      "[320]\ttrain-auc:0.94062\tval-auc:0.93289\n",
      "[330]\ttrain-auc:0.94096\tval-auc:0.93298\n",
      "[340]\ttrain-auc:0.94121\tval-auc:0.93302\n",
      "[350]\ttrain-auc:0.94139\tval-auc:0.93311\n",
      "[360]\ttrain-auc:0.94164\tval-auc:0.93320\n",
      "[370]\ttrain-auc:0.94194\tval-auc:0.93325\n",
      "[380]\ttrain-auc:0.94216\tval-auc:0.93330\n",
      "[390]\ttrain-auc:0.94243\tval-auc:0.93335\n",
      "[400]\ttrain-auc:0.94271\tval-auc:0.93338\n",
      "[410]\ttrain-auc:0.94290\tval-auc:0.93342\n",
      "[420]\ttrain-auc:0.94315\tval-auc:0.93352\n",
      "[430]\ttrain-auc:0.94341\tval-auc:0.93349\n",
      "[440]\ttrain-auc:0.94366\tval-auc:0.93355\n",
      "[450]\ttrain-auc:0.94392\tval-auc:0.93358\n",
      "[460]\ttrain-auc:0.94413\tval-auc:0.93364\n",
      "[470]\ttrain-auc:0.94437\tval-auc:0.93364\n",
      "[480]\ttrain-auc:0.94458\tval-auc:0.93363\n",
      "[490]\ttrain-auc:0.94475\tval-auc:0.93369\n",
      "[499]\ttrain-auc:0.94494\tval-auc:0.93372\n",
      "\n"
     ]
    }
   ],
   "source": [
    "print(output)"
   ]
  },
  {
   "cell_type": "code",
   "execution_count": 252,
   "id": "8aad2572-60e7-48c9-a349-a2a892e18224",
   "metadata": {},
   "outputs": [
    {
     "name": "stdout",
     "output_type": "stream",
     "text": [
      "Accuracy: 0.8803, Precision: 0.8000, Recall: 0.6635, ROC AUC: 0.9337\n"
     ]
    }
   ],
   "source": [
    "### retrain with params\n",
    "\n",
    "target_column = 'income'\n",
    "\n",
    "df_train_full, df_test = train_test_split(df, test_size=0.2, random_state=1)\n",
    "df_train, df_val = train_test_split(df_train_full, test_size=0.25, random_state=1)\n",
    "\n",
    "\n",
    "y_train = df_train[target_column]\n",
    "y_val = df_val[target_column]\n",
    "y_test = df_test[target_column]\n",
    "\n",
    "\n",
    "del df_train[target_column]\n",
    "del df_val[target_column]\n",
    "del df_test[target_column]\n",
    "\n",
    "# Initialize DictVectorizer with sparse=True\n",
    "dv = DictVectorizer(sparse=True)\n",
    "\n",
    "# Convert dataframes to dictionaries and apply DictVectorizer\n",
    "train_dicts = df_train.to_dict(orient='records')\n",
    "val_dicts = df_val.to_dict(orient='records')\n",
    "test_dicts = df_test.to_dict(orient='records')\n",
    "\n",
    "X_train = dv.fit_transform(train_dicts)\n",
    "X_val = dv.transform(val_dicts)\n",
    "X_test = dv.transform(test_dicts)\n",
    "\n",
    "scaler = StandardScaler(with_mean=False)\n",
    "\n",
    "X_train_scaled = scaler.fit_transform(X_train)\n",
    "X_val_scaled = scaler.transform(X_val)\n",
    "\n",
    "\n",
    "dtrain = xgb.DMatrix(X_train_scaled, label=y_train, feature_names=dv.feature_names_)\n",
    "dval = xgb.DMatrix(X_val_scaled, label=y_val, feature_names=dv.feature_names_)\n",
    "\n",
    "xgb_params = {\n",
    "    'eta': 0.05,\n",
    "    'max_depth': 5,\n",
    "    'min_child_weight': 1,\n",
    "\n",
    "    'objective': 'binary:logistic',\n",
    "    'nthread': 8,\n",
    "    'seed': 1\n",
    "}\n",
    "\n",
    "model_XGB = xgb.train(xgb_params, dtrain, num_boost_round=500, verbose_eval=10)\n",
    "\n",
    "dval_predict = xgb.DMatrix(X_val_scaled, feature_names=dv.feature_names_)\n",
    "\n",
    "y_pred_proba = model_XGB.predict(dval_predict)\n",
    "\n",
    "# Convert probabilities to binary predictions (threshold 0.5)\n",
    "y_pred = (y_pred_proba >= 0.5).astype(int)\n",
    "\n",
    "\n",
    "\n",
    "accuracy = accuracy_score(y_val, y_pred)\n",
    "precision = precision_score(y_val, y_pred)\n",
    "recall = recall_score(y_val, y_pred)\n",
    "roc_auc = roc_auc_score(y_val, y_pred_proba)  # Use probabilities for ROC AUC\n",
    "\n",
    "# Print metrics\n",
    "print(f\"Accuracy: {accuracy:.4f}, Precision: {precision:.4f}, Recall: {recall:.4f}, ROC AUC: {roc_auc:.4f}\")"
   ]
  },
  {
   "cell_type": "markdown",
   "id": "c1e3a742-1f57-4bd5-bbf1-7e5462f5c1a8",
   "metadata": {},
   "source": [
    "### Final test"
   ]
  },
  {
   "cell_type": "code",
   "execution_count": 254,
   "id": "c4710683-7688-4664-8e6a-aa783b076041",
   "metadata": {},
   "outputs": [
    {
     "name": "stdout",
     "output_type": "stream",
     "text": [
      "Accuracy: 0.8748, Precision: 0.7850, Recall: 0.6571, ROC AUC: 0.9300\n"
     ]
    }
   ],
   "source": [
    "target_column = 'income'\n",
    "\n",
    "df_train_full, df_test = train_test_split(df, test_size=0.2, random_state=1)\n",
    "df_train, df_val = train_test_split(df_train_full, test_size=0.25, random_state=1)\n",
    "\n",
    "\n",
    "y_train_full = df_train_full[target_column]\n",
    "y_test = df_test[target_column]\n",
    "\n",
    "\n",
    "del df_train_full[target_column]\n",
    "del df_test[target_column]\n",
    "\n",
    "# Initialize DictVectorizer with sparse=True\n",
    "dv = DictVectorizer(sparse=True)\n",
    "\n",
    "# Convert dataframes to dictionaries and apply DictVectorizer\n",
    "train_full_dicts = df_train_full.to_dict(orient='records')\n",
    "test_dicts = df_test.to_dict(orient='records')\n",
    "\n",
    "X_train_full = dv.fit_transform(train_full_dicts)\n",
    "X_test = dv.transform(test_dicts)\n",
    "\n",
    "scaler = StandardScaler(with_mean=False)\n",
    "\n",
    "X_train_full_scaled = scaler.fit_transform(X_train_full)\n",
    "X_test_scaled = scaler.transform(X_test)\n",
    "\n",
    "\n",
    "dtrain = xgb.DMatrix(X_train_full_scaled, label=y_train_full, feature_names=dv.feature_names_)\n",
    "dtest = xgb.DMatrix(X_test_scaled, label=y_test, feature_names=dv.feature_names_)\n",
    "\n",
    "xgb_params = {\n",
    "    'eta': 0.05,\n",
    "    'max_depth': 5,\n",
    "    'min_child_weight': 1,\n",
    "\n",
    "    'objective': 'binary:logistic',\n",
    "    'nthread': 8,\n",
    "    'seed': 1\n",
    "}\n",
    "\n",
    "model_XGB = xgb.train(xgb_params, dtrain, num_boost_round=500, verbose_eval=10)\n",
    "\n",
    "dtest_predict = xgb.DMatrix(X_test_scaled, feature_names=dv.feature_names_)\n",
    "\n",
    "y_pred_proba = model_XGB.predict(dtest_predict)\n",
    "\n",
    "# Convert probabilities to binary predictions (threshold 0.5)\n",
    "y_pred = (y_pred_proba >= 0.5).astype(int)\n",
    "\n",
    "\n",
    "\n",
    "accuracy = accuracy_score(y_test, y_pred)\n",
    "precision = precision_score(y_test, y_pred)\n",
    "recall = recall_score(y_test, y_pred)\n",
    "roc_auc = roc_auc_score(y_test, y_pred_proba)  # Use probabilities for ROC AUC\n",
    "\n",
    "# Print metrics\n",
    "print(f\"Accuracy: {accuracy:.4f}, Precision: {precision:.4f}, Recall: {recall:.4f}, ROC AUC: {roc_auc:.4f}\")\n"
   ]
  },
  {
   "cell_type": "code",
   "execution_count": 312,
   "id": "891810b0-a9e6-479a-a33b-20d6b3dd5c59",
   "metadata": {},
   "outputs": [
    {
     "name": "stdout",
     "output_type": "stream",
     "text": [
      "Model and transformers saved successfully.\n"
     ]
    }
   ],
   "source": [
    "import pickle\n",
    "\n",
    "# Save the XGBoost model\n",
    "with open('Downloads/xgb_model.pkl', 'wb') as f:\n",
    "    pickle.dump(model_XGB, f)\n",
    "\n",
    "# Save the DictVectorizer and StandardScaler\n",
    "with open('Downloads/dv_scaler.pkl', 'wb') as f:\n",
    "    pickle.dump({'dict_vectorizer': dv, 'scaler': scaler}, f)\n",
    "\n",
    "print(\"Model and transformers saved successfully.\")\n"
   ]
  },
  {
   "cell_type": "code",
   "execution_count": 313,
   "id": "8d92c07d-ab4a-4fc3-a66e-273f05942a28",
   "metadata": {},
   "outputs": [
    {
     "name": "stdout",
     "output_type": "stream",
     "text": [
      "Model and transformers loaded successfully.\n",
      "Prediction: [0], Probability: [0.28638765]\n"
     ]
    }
   ],
   "source": [
    "import pickle\n",
    "import xgboost as xgb\n",
    "import pandas as pd\n",
    "import numpy as np\n",
    "\n",
    "# Load the XGBoost model\n",
    "with open('Downloads/xgb_model.pkl', 'rb') as f:\n",
    "    model_XGB = pickle.load(f)\n",
    "\n",
    "# Load the DictVectorizer and StandardScaler\n",
    "with open('Downloads/dv_scaler.pkl', 'rb') as f:\n",
    "    data = pickle.load(f)\n",
    "    dv = data['dict_vectorizer']\n",
    "    scaler = data['scaler']\n",
    "\n",
    "print(\"Model and transformers loaded successfully.\")\n",
    "\n",
    "# New data for prediction (example)\n",
    "new_data = pd.DataFrame([\n",
    "    {'age': 30, 'workclass': 'Private', 'education': 'Bachelors', 'capital-gain': 0, 'hours-per-week': 40}\n",
    "])\n",
    "\n",
    "# Process new data with DictVectorizer and StandardScaler\n",
    "new_data_dicts = new_data.to_dict(orient='records')\n",
    "X_new = dv.transform(new_data_dicts)\n",
    "X_new_scaled = scaler.transform(X_new)\n",
    "\n",
    "# Convert to DMatrix and predict\n",
    "dnew = xgb.DMatrix(X_new_scaled, feature_names=dv.feature_names_)\n",
    "y_pred_proba = model_XGB.predict(dnew)\n",
    "\n",
    "# Convert probabilities to binary predictions\n",
    "y_pred = (y_pred_proba >= 0.5).astype(int)\n",
    "\n",
    "print(f\"Prediction: {y_pred}, Probability: {y_pred_proba}\")\n"
   ]
  },
  {
   "cell_type": "markdown",
   "id": "2bc5bdca-136f-4f2b-b16d-69ca9068e43f",
   "metadata": {},
   "source": [
    "### Feature importances"
   ]
  },
  {
   "cell_type": "code",
   "execution_count": 255,
   "id": "d30c4184-35ef-4dde-8a0b-7df5d1a771e2",
   "metadata": {},
   "outputs": [
    {
     "data": {
      "text/plain": [
       "array([4.20826598e-02, 1.99364821e-01, 6.91009053e-02, 2.11840296e-01,\n",
       "       0.00000000e+00, 0.00000000e+00, 0.00000000e+00, 0.00000000e+00,\n",
       "       0.00000000e+00, 0.00000000e+00, 0.00000000e+00, 0.00000000e+00,\n",
       "       0.00000000e+00, 0.00000000e+00, 5.39807494e-04, 0.00000000e+00,\n",
       "       0.00000000e+00, 0.00000000e+00, 0.00000000e+00, 3.91753128e-04,\n",
       "       3.14051406e-03, 3.59202922e-02, 0.00000000e+00, 2.81754779e-04,\n",
       "       4.17197075e-01, 0.00000000e+00, 4.69233480e-04, 0.00000000e+00,\n",
       "       0.00000000e+00, 0.00000000e+00, 0.00000000e+00, 0.00000000e+00,\n",
       "       1.69457716e-04, 0.00000000e+00, 0.00000000e+00, 0.00000000e+00,\n",
       "       0.00000000e+00, 0.00000000e+00, 0.00000000e+00, 0.00000000e+00,\n",
       "       0.00000000e+00, 0.00000000e+00, 0.00000000e+00, 0.00000000e+00,\n",
       "       0.00000000e+00, 0.00000000e+00, 0.00000000e+00, 0.00000000e+00,\n",
       "       0.00000000e+00, 0.00000000e+00, 0.00000000e+00, 0.00000000e+00,\n",
       "       0.00000000e+00, 0.00000000e+00, 0.00000000e+00, 0.00000000e+00,\n",
       "       0.00000000e+00, 0.00000000e+00, 0.00000000e+00, 1.77163660e-04,\n",
       "       0.00000000e+00, 0.00000000e+00, 0.00000000e+00, 0.00000000e+00,\n",
       "       0.00000000e+00, 0.00000000e+00, 0.00000000e+00, 0.00000000e+00,\n",
       "       3.00716044e-04, 0.00000000e+00, 0.00000000e+00, 0.00000000e+00,\n",
       "       2.08935002e-04, 0.00000000e+00, 1.95876564e-04, 7.15062080e-03,\n",
       "       0.00000000e+00, 0.00000000e+00, 1.67894198e-04, 0.00000000e+00,\n",
       "       0.00000000e+00, 2.17538899e-03, 0.00000000e+00, 0.00000000e+00,\n",
       "       1.02086470e-03, 4.03240626e-04, 0.00000000e+00, 0.00000000e+00,\n",
       "       0.00000000e+00, 0.00000000e+00, 0.00000000e+00, 0.00000000e+00,\n",
       "       3.13402503e-04, 0.00000000e+00, 0.00000000e+00, 0.00000000e+00,\n",
       "       2.33605776e-03, 1.60262643e-04, 1.18690971e-03, 0.00000000e+00,\n",
       "       3.42197815e-05, 0.00000000e+00, 0.00000000e+00, 7.19409919e-04,\n",
       "       0.00000000e+00, 2.95046786e-03, 0.00000000e+00, 0.00000000e+00])"
      ]
     },
     "execution_count": 255,
     "metadata": {},
     "output_type": "execute_result"
    }
   ],
   "source": [
    "model_DT.feature_importances_"
   ]
  },
  {
   "cell_type": "code",
   "execution_count": 258,
   "id": "052e3eb6-8248-4654-b9b6-d2708431ccbf",
   "metadata": {},
   "outputs": [
    {
     "data": {
      "text/plain": [
       "[('age', 0.04208265984798438),\n",
       " ('capital-gain', 0.19936482079432616),\n",
       " ('capital-loss', 0.06910090533078697),\n",
       " ('education-num', 0.2118402956246839),\n",
       " ('education=10th', 0.0),\n",
       " ('education=11th', 0.0),\n",
       " ('education=12th', 0.0),\n",
       " ('education=1st-4th', 0.0),\n",
       " ('education=5th-6th', 0.0),\n",
       " ('education=7th-8th', 0.0),\n",
       " ('education=9th', 0.0),\n",
       " ('education=Assoc-acdm', 0.0),\n",
       " ('education=Assoc-voc', 0.0),\n",
       " ('education=Bachelors', 0.0),\n",
       " ('education=Doctorate', 0.000539807493746071),\n",
       " ('education=HS-grad', 0.0),\n",
       " ('education=Masters', 0.0),\n",
       " ('education=Preschool', 0.0),\n",
       " ('education=Prof-school', 0.0),\n",
       " ('education=Some-college', 0.0003917531281256726),\n",
       " ('fnlwgt', 0.0031405140564746232),\n",
       " ('hours-per-week', 0.03592029219468962),\n",
       " ('marital-status=Divorced', 0.0),\n",
       " ('marital-status=Married-AF-spouse', 0.00028175477938154216),\n",
       " ('marital-status=Married-civ-spouse', 0.4171970748019821),\n",
       " ('marital-status=Married-spouse-absent', 0.0),\n",
       " ('marital-status=Never-married', 0.00046923347989190714),\n",
       " ('marital-status=Separated', 0.0),\n",
       " ('marital-status=Widowed', 0.0),\n",
       " ('native_country=?', 0.0),\n",
       " ('native_country=Cambodia', 0.0),\n",
       " ('native_country=Canada', 0.0),\n",
       " ('native_country=China', 0.00016945771602360472),\n",
       " ('native_country=Columbia', 0.0),\n",
       " ('native_country=Cuba', 0.0),\n",
       " ('native_country=Dominican-Republic', 0.0),\n",
       " ('native_country=Ecuador', 0.0),\n",
       " ('native_country=El-Salvador', 0.0),\n",
       " ('native_country=England', 0.0),\n",
       " ('native_country=France', 0.0),\n",
       " ('native_country=Germany', 0.0),\n",
       " ('native_country=Greece', 0.0),\n",
       " ('native_country=Guatemala', 0.0),\n",
       " ('native_country=Haiti', 0.0),\n",
       " ('native_country=Holand-Netherlands', 0.0),\n",
       " ('native_country=Honduras', 0.0),\n",
       " ('native_country=Hong', 0.0),\n",
       " ('native_country=Hungary', 0.0),\n",
       " ('native_country=India', 0.0),\n",
       " ('native_country=Iran', 0.0),\n",
       " ('native_country=Ireland', 0.0),\n",
       " ('native_country=Italy', 0.0),\n",
       " ('native_country=Jamaica', 0.0),\n",
       " ('native_country=Japan', 0.0),\n",
       " ('native_country=Laos', 0.0),\n",
       " ('native_country=Mexico', 0.0),\n",
       " ('native_country=Nicaragua', 0.0),\n",
       " ('native_country=Outlying-US(Guam-USVI-etc)', 0.0),\n",
       " ('native_country=Peru', 0.0),\n",
       " ('native_country=Philippines', 0.00017716365981386794),\n",
       " ('native_country=Poland', 0.0),\n",
       " ('native_country=Portugal', 0.0),\n",
       " ('native_country=Puerto-Rico', 0.0),\n",
       " ('native_country=Scotland', 0.0),\n",
       " ('native_country=South', 0.0),\n",
       " ('native_country=Taiwan', 0.0),\n",
       " ('native_country=Thailand', 0.0),\n",
       " ('native_country=Trinadad&Tobago', 0.0),\n",
       " ('native_country=United-States', 0.0003007160443783276),\n",
       " ('native_country=Vietnam', 0.0),\n",
       " ('native_country=Yugoslavia', 0.0),\n",
       " ('occupation=?', 0.0),\n",
       " ('occupation=Adm-clerical', 0.00020893500166702537),\n",
       " ('occupation=Armed-Forces', 0.0),\n",
       " ('occupation=Craft-repair', 0.0001958765640628364),\n",
       " ('occupation=Exec-managerial', 0.0071506208007914365),\n",
       " ('occupation=Farming-fishing', 0.0),\n",
       " ('occupation=Handlers-cleaners', 0.0),\n",
       " ('occupation=Machine-op-inspct', 0.0001678941977681455),\n",
       " ('occupation=Other-service', 0.0),\n",
       " ('occupation=Priv-house-serv', 0.0),\n",
       " ('occupation=Prof-specialty', 0.002175388991105814),\n",
       " ('occupation=Protective-serv', 0.0),\n",
       " ('occupation=Sales', 0.0),\n",
       " ('occupation=Tech-support', 0.001020864697419216),\n",
       " ('occupation=Transport-moving', 0.00040324062586770377),\n",
       " ('race=Amer-Indian-Eskimo', 0.0),\n",
       " ('race=Asian-Pac-Islander', 0.0),\n",
       " ('race=Black', 0.0),\n",
       " ('race=Other', 0.0),\n",
       " ('race=White', 0.0),\n",
       " ('relationship=Husband', 0.0),\n",
       " ('relationship=Not-in-family', 0.00031340250250053766),\n",
       " ('relationship=Other-relative', 0.0),\n",
       " ('relationship=Own-child', 0.0),\n",
       " ('relationship=Unmarried', 0.0),\n",
       " ('relationship=Wife', 0.002336057757429211),\n",
       " ('sex=Female', 0.00016026264332413855),\n",
       " ('sex=Male', 0.0011869097057884876),\n",
       " ('workclass=?', 0.0),\n",
       " ('workclass=Federal-gov', 3.4219781492695994e-05),\n",
       " ('workclass=Local-gov', 0.0),\n",
       " ('workclass=Never-worked', 0.0),\n",
       " ('workclass=Private', 0.0007194099189040069),\n",
       " ('workclass=Self-emp-inc', 0.0),\n",
       " ('workclass=Self-emp-not-inc', 0.0029504678595900307),\n",
       " ('workclass=State-gov', 0.0),\n",
       " ('workclass=Without-pay', 0.0)]"
      ]
     },
     "execution_count": 258,
     "metadata": {},
     "output_type": "execute_result"
    }
   ],
   "source": [
    "\n",
    "list(zip(dv.feature_names_, model_DT.feature_importances_))"
   ]
  },
  {
   "cell_type": "code",
   "execution_count": 264,
   "id": "f36785f7-048d-4799-8a7e-a9253095cfaf",
   "metadata": {},
   "outputs": [
    {
     "data": {
      "text/html": [
       "<div>\n",
       "<style scoped>\n",
       "    .dataframe tbody tr th:only-of-type {\n",
       "        vertical-align: middle;\n",
       "    }\n",
       "\n",
       "    .dataframe tbody tr th {\n",
       "        vertical-align: top;\n",
       "    }\n",
       "\n",
       "    .dataframe thead th {\n",
       "        text-align: right;\n",
       "    }\n",
       "</style>\n",
       "<table border=\"1\" class=\"dataframe\">\n",
       "  <thead>\n",
       "    <tr style=\"text-align: right;\">\n",
       "      <th></th>\n",
       "      <th>feature</th>\n",
       "      <th>gain</th>\n",
       "    </tr>\n",
       "  </thead>\n",
       "  <tbody>\n",
       "    <tr>\n",
       "      <th>24</th>\n",
       "      <td>marital-status=Married-civ-spouse</td>\n",
       "      <td>0.417197</td>\n",
       "    </tr>\n",
       "    <tr>\n",
       "      <th>3</th>\n",
       "      <td>education-num</td>\n",
       "      <td>0.211840</td>\n",
       "    </tr>\n",
       "    <tr>\n",
       "      <th>1</th>\n",
       "      <td>capital-gain</td>\n",
       "      <td>0.199365</td>\n",
       "    </tr>\n",
       "    <tr>\n",
       "      <th>2</th>\n",
       "      <td>capital-loss</td>\n",
       "      <td>0.069101</td>\n",
       "    </tr>\n",
       "    <tr>\n",
       "      <th>0</th>\n",
       "      <td>age</td>\n",
       "      <td>0.042083</td>\n",
       "    </tr>\n",
       "    <tr>\n",
       "      <th>21</th>\n",
       "      <td>hours-per-week</td>\n",
       "      <td>0.035920</td>\n",
       "    </tr>\n",
       "    <tr>\n",
       "      <th>75</th>\n",
       "      <td>occupation=Exec-managerial</td>\n",
       "      <td>0.007151</td>\n",
       "    </tr>\n",
       "    <tr>\n",
       "      <th>20</th>\n",
       "      <td>fnlwgt</td>\n",
       "      <td>0.003141</td>\n",
       "    </tr>\n",
       "    <tr>\n",
       "      <th>105</th>\n",
       "      <td>workclass=Self-emp-not-inc</td>\n",
       "      <td>0.002950</td>\n",
       "    </tr>\n",
       "    <tr>\n",
       "      <th>96</th>\n",
       "      <td>relationship=Wife</td>\n",
       "      <td>0.002336</td>\n",
       "    </tr>\n",
       "  </tbody>\n",
       "</table>\n",
       "</div>"
      ],
      "text/plain": [
       "                               feature      gain\n",
       "24   marital-status=Married-civ-spouse  0.417197\n",
       "3                        education-num  0.211840\n",
       "1                         capital-gain  0.199365\n",
       "2                         capital-loss  0.069101\n",
       "0                                  age  0.042083\n",
       "21                      hours-per-week  0.035920\n",
       "75          occupation=Exec-managerial  0.007151\n",
       "20                              fnlwgt  0.003141\n",
       "105         workclass=Self-emp-not-inc  0.002950\n",
       "96                   relationship=Wife  0.002336"
      ]
     },
     "execution_count": 264,
     "metadata": {},
     "output_type": "execute_result"
    }
   ],
   "source": [
    "importances = list(zip(dv.feature_names_, model_DT.feature_importances_))\n",
    "\n",
    "df_importance = pd.DataFrame(importances, columns=['feature', 'gain'])\n",
    "df_importance = df_importance.sort_values(by='gain', ascending=False)\n",
    "df_importance[:10]"
   ]
  },
  {
   "cell_type": "code",
   "execution_count": 309,
   "id": "17f8381c-c9ad-4404-8ac4-92b5e095ac31",
   "metadata": {},
   "outputs": [
    {
     "data": {
      "image/png": "[encoded data removed]",
      "text/plain": [
       "<Figure size 640x480 with 1 Axes>"
      ]
     },
     "metadata": {},
     "output_type": "display_data"
    }
   ],
   "source": [
    "importances = list(zip(dv.feature_names_, model_DT.feature_importances_))\n",
    "\n",
    "df_importance = pd.DataFrame(importances, columns=['feature', 'gain'])\n",
    "df_importance = df_importance.sort_values(by='gain', ascending=False)\n",
    "df_importance[:10]\n",
    "\n",
    "\n",
    "num = len(df_importance[:10])\n",
    "plt.barh(range(num), df_importance.gain[:10][::-1])\n",
    "plt.yticks(range(num), df_importance.feature[:10][::-1])\n",
    "\n",
    "plt.title('Decision Trees: Top 10 Most Important Features') \n",
    "\n",
    "plt.show()"
   ]
  },
  {
   "cell_type": "code",
   "execution_count": 306,
   "id": "47f25066-8473-4f44-9ecc-ad02cde0b786",
   "metadata": {},
   "outputs": [
    {
     "data": {
      "image/png": "[encoded data removed]",
      "text/plain": [
       "<Figure size 600x800 with 1 Axes>"
      ]
     },
     "metadata": {},
     "output_type": "display_data"
    }
   ],
   "source": [
    "# Get feature importance and sort by value\n",
    "scores = model_XGB.get_score(importance_type='weight')\n",
    "scores = sorted(scores.items(), key=lambda x: x[1], reverse=True)  # Sort descending\n",
    "\n",
    "# Take only the top 10 features\n",
    "top_10_scores = scores[:10]\n",
    "\n",
    "# Extract names and values for the top 10\n",
    "names, values = zip(*top_10_scores)  # Unpacks the first 10 tuples\n",
    "\n",
    "# Plotting\n",
    "plt.figure(figsize=(6, 8))\n",
    "plt.barh(np.arange(len(values)), values)\n",
    "plt.yticks(np.arange(len(names)), names)\n",
    "plt.xlabel('Importance Score')\n",
    "plt.title('XgBoost: Top 10 Most Important Features')  # Added title\n",
    "plt.gca().invert_yaxis()  # Optional: invert y-axis for descending order\n",
    "\n",
    "plt.show()\n"
   ]
  },
  {
   "cell_type": "code",
   "execution_count": 268,
   "id": "51200c8e-cd95-47cb-a3a3-f02b1ecb4910",
   "metadata": {},
   "outputs": [
    {
     "data": {
      "text/plain": [
       "array([7.06277697e-02, 1.49838672e-01, 3.54204623e-02, 9.85457452e-02,\n",
       "       1.22095488e-03, 2.29120890e-03, 2.98459877e-04, 1.63757138e-04,\n",
       "       8.37715380e-04, 2.08470404e-03, 1.71686850e-03, 1.59052502e-03,\n",
       "       1.77107379e-03, 1.95526249e-02, 4.41398208e-03, 9.82105214e-03,\n",
       "       9.93346532e-03, 3.37833241e-05, 6.47956929e-03, 5.17595491e-03,\n",
       "       2.83295987e-02, 5.53545430e-02, 9.75376464e-03, 1.50556984e-04,\n",
       "       1.43408795e-01, 5.59803460e-04, 4.61638056e-02, 1.31208045e-03,\n",
       "       1.75656175e-03, 7.98806403e-04, 2.02343511e-05, 2.17519859e-04,\n",
       "       1.16565696e-04, 5.17491828e-05, 9.85983971e-05, 3.57527942e-05,\n",
       "       5.50227621e-06, 4.59122462e-05, 1.62064629e-04, 2.14024918e-05,\n",
       "       1.83578093e-04, 3.78508935e-05, 3.64613358e-05, 1.01475586e-05,\n",
       "       0.00000000e+00, 0.00000000e+00, 0.00000000e+00, 0.00000000e+00,\n",
       "       3.57587304e-04, 4.36460627e-05, 2.53989746e-05, 1.09174709e-04,\n",
       "       5.12828638e-05, 7.68423485e-05, 1.32511654e-05, 2.49167506e-03,\n",
       "       6.66646328e-06, 0.00000000e+00, 0.00000000e+00, 1.58221586e-04,\n",
       "       3.64028342e-05, 6.15915568e-05, 6.36763330e-05, 0.00000000e+00,\n",
       "       9.60338490e-05, 6.03321785e-05, 0.00000000e+00, 0.00000000e+00,\n",
       "       2.89877660e-03, 2.09376852e-05, 5.46925818e-06, 2.20135238e-03,\n",
       "       2.79329068e-03, 0.00000000e+00, 2.81152131e-03, 3.32305930e-02,\n",
       "       4.30711258e-03, 2.60679673e-03, 2.12381821e-03, 6.87122794e-03,\n",
       "       9.69948671e-05, 2.31888340e-02, 1.64117130e-03, 3.65599550e-03,\n",
       "       3.60458439e-03, 1.52001556e-03, 4.03449878e-04, 1.35121473e-03,\n",
       "       2.37803676e-03, 2.22593365e-04, 2.82848951e-03, 8.63496860e-02,\n",
       "       1.74353935e-02, 1.05710790e-03, 1.30338903e-02, 5.59026367e-03,\n",
       "       1.21367879e-02, 1.22702707e-02, 1.24638652e-02, 1.57930554e-03,\n",
       "       3.39650489e-03, 2.25189220e-03, 1.08381917e-11, 5.37259084e-03,\n",
       "       4.33947865e-03, 6.35969961e-03, 1.49919932e-03, 0.00000000e+00])"
      ]
     },
     "execution_count": 268,
     "metadata": {},
     "output_type": "execute_result"
    }
   ],
   "source": [
    "model_RF.feature_importances_"
   ]
  },
  {
   "cell_type": "code",
   "execution_count": 307,
   "id": "54aeab7d-7f62-409a-9eb3-affae0953973",
   "metadata": {},
   "outputs": [
    {
     "data": {
      "text/html": [
       "<div>\n",
       "<style scoped>\n",
       "    .dataframe tbody tr th:only-of-type {\n",
       "        vertical-align: middle;\n",
       "    }\n",
       "\n",
       "    .dataframe tbody tr th {\n",
       "        vertical-align: top;\n",
       "    }\n",
       "\n",
       "    .dataframe thead th {\n",
       "        text-align: right;\n",
       "    }\n",
       "</style>\n",
       "<table border=\"1\" class=\"dataframe\">\n",
       "  <thead>\n",
       "    <tr style=\"text-align: right;\">\n",
       "      <th></th>\n",
       "      <th>feature</th>\n",
       "      <th>gain</th>\n",
       "    </tr>\n",
       "  </thead>\n",
       "  <tbody>\n",
       "    <tr>\n",
       "      <th>1</th>\n",
       "      <td>capital-gain</td>\n",
       "      <td>0.149839</td>\n",
       "    </tr>\n",
       "    <tr>\n",
       "      <th>24</th>\n",
       "      <td>marital-status=Married-civ-spouse</td>\n",
       "      <td>0.143409</td>\n",
       "    </tr>\n",
       "    <tr>\n",
       "      <th>3</th>\n",
       "      <td>education-num</td>\n",
       "      <td>0.098546</td>\n",
       "    </tr>\n",
       "    <tr>\n",
       "      <th>91</th>\n",
       "      <td>relationship=Husband</td>\n",
       "      <td>0.086350</td>\n",
       "    </tr>\n",
       "    <tr>\n",
       "      <th>0</th>\n",
       "      <td>age</td>\n",
       "      <td>0.070628</td>\n",
       "    </tr>\n",
       "    <tr>\n",
       "      <th>21</th>\n",
       "      <td>hours-per-week</td>\n",
       "      <td>0.055355</td>\n",
       "    </tr>\n",
       "    <tr>\n",
       "      <th>26</th>\n",
       "      <td>marital-status=Never-married</td>\n",
       "      <td>0.046164</td>\n",
       "    </tr>\n",
       "    <tr>\n",
       "      <th>2</th>\n",
       "      <td>capital-loss</td>\n",
       "      <td>0.035420</td>\n",
       "    </tr>\n",
       "    <tr>\n",
       "      <th>75</th>\n",
       "      <td>occupation=Exec-managerial</td>\n",
       "      <td>0.033231</td>\n",
       "    </tr>\n",
       "    <tr>\n",
       "      <th>20</th>\n",
       "      <td>fnlwgt</td>\n",
       "      <td>0.028330</td>\n",
       "    </tr>\n",
       "  </tbody>\n",
       "</table>\n",
       "</div>"
      ],
      "text/plain": [
       "                              feature      gain\n",
       "1                        capital-gain  0.149839\n",
       "24  marital-status=Married-civ-spouse  0.143409\n",
       "3                       education-num  0.098546\n",
       "91               relationship=Husband  0.086350\n",
       "0                                 age  0.070628\n",
       "21                     hours-per-week  0.055355\n",
       "26       marital-status=Never-married  0.046164\n",
       "2                        capital-loss  0.035420\n",
       "75         occupation=Exec-managerial  0.033231\n",
       "20                             fnlwgt  0.028330"
      ]
     },
     "execution_count": 307,
     "metadata": {},
     "output_type": "execute_result"
    }
   ],
   "source": [
    "importances = list(zip(dv.feature_names_, model_RF.feature_importances_))\n",
    "\n",
    "df_importance = pd.DataFrame(importances, columns=['feature', 'gain'])\n",
    "df_importance = df_importance.sort_values(by='gain', ascending=False)\n",
    "df_importance[:10]\n"
   ]
  },
  {
   "cell_type": "code",
   "execution_count": 308,
   "id": "bb309dda-5753-46ac-97ff-e65dabdb3fc4",
   "metadata": {},
   "outputs": [
    {
     "data": {
      "image/png": "[encoded data removed]",
      "text/plain": [
       "<Figure size 640x480 with 1 Axes>"
      ]
     },
     "metadata": {},
     "output_type": "display_data"
    }
   ],
   "source": [
    "num = len(df_importance[:10])\n",
    "plt.barh(range(num), df_importance.gain[:10][::-1])\n",
    "plt.yticks(range(num), df_importance.feature[:10][::-1])\n",
    "\n",
    "plt.title('Random Forest: Top 10 Most Important Features') \n",
    "\n",
    "plt.show()"
   ]
  },
  {
   "cell_type": "code",
   "execution_count": 302,
   "id": "e3b9c20d-f086-4caf-9c0c-e5740fd70615",
   "metadata": {},
   "outputs": [
    {
     "data": {
      "text/plain": [
       "[('age', 1557.0),\n",
       " ('fnlwgt', 1281.0),\n",
       " ('capital-gain', 1101.0),\n",
       " ('capital-loss', 833.0),\n",
       " ('hours-per-week', 786.0),\n",
       " ('education-num', 602.0),\n",
       " ('marital-status=Married-civ-spouse', 203.0),\n",
       " ('sex=Female', 164.0),\n",
       " ('workclass=Self-emp-not-inc', 148.0),\n",
       " ('workclass=Private', 136.0),\n",
       " ('relationship=Wife', 129.0),\n",
       " ('occupation=Exec-managerial', 101.0),\n",
       " ('occupation=Prof-specialty', 94.0),\n",
       " ('relationship=Unmarried', 89.0),\n",
       " ('education=HS-grad', 83.0),\n",
       " ('race=White', 79.0),\n",
       " ('education=Some-college', 75.0),\n",
       " ('workclass=Local-gov', 72.0),\n",
       " ('relationship=Husband', 72.0),\n",
       " ('education=Bachelors', 72.0),\n",
       " ('marital-status=Never-married', 70.0),\n",
       " ('occupation=Sales', 69.0),\n",
       " ('native_country=United-States', 68.0),\n",
       " ('occupation=Transport-moving', 62.0),\n",
       " ('relationship=Not-in-family', 61.0),\n",
       " ('occupation=Adm-clerical', 61.0),\n",
       " ('occupation=Handlers-cleaners', 60.0),\n",
       " ('workclass=Self-emp-inc', 56.0),\n",
       " ('occupation=Farming-fishing', 53.0),\n",
       " ('occupation=Other-service', 50.0),\n",
       " ('occupation=Protective-serv', 45.0),\n",
       " ('native_country=Columbia', 44.0),\n",
       " ('occupation=Tech-support', 43.0),\n",
       " ('occupation=Machine-op-inspct', 43.0),\n",
       " ('occupation=Craft-repair', 43.0),\n",
       " ('occupation=?', 43.0),\n",
       " ('workclass=Federal-gov', 42.0),\n",
       " ('native_country=Mexico', 40.0),\n",
       " ('race=Asian-Pac-Islander', 39.0),\n",
       " ('marital-status=Married-AF-spouse', 39.0),\n",
       " ('native_country=Ireland', 35.0),\n",
       " ('workclass=State-gov', 32.0),\n",
       " ('race=Black', 31.0),\n",
       " ('relationship=Other-relative', 30.0),\n",
       " ('education=Prof-school', 30.0),\n",
       " ('native_country=Trinadad&Tobago', 28.0),\n",
       " ('relationship=Own-child', 27.0),\n",
       " ('occupation=Priv-house-serv', 26.0),\n",
       " ('marital-status=Widowed', 25.0),\n",
       " ('marital-status=Divorced', 25.0),\n",
       " ('education=Assoc-voc', 24.0),\n",
       " ('native_country=Canada', 23.0),\n",
       " ('race=Amer-Indian-Eskimo', 22.0),\n",
       " ('native_country=?', 22.0),\n",
       " ('native_country=Peru', 21.0),\n",
       " ('education=Masters', 20.0),\n",
       " ('native_country=South', 18.0),\n",
       " ('native_country=Dominican-Republic', 18.0),\n",
       " ('native_country=Cambodia', 18.0),\n",
       " ('native_country=Scotland', 17.0),\n",
       " ('education=7th-8th', 17.0),\n",
       " ('native_country=Yugoslavia', 16.0),\n",
       " ('native_country=Puerto-Rico', 16.0),\n",
       " ('education=11th', 13.0),\n",
       " ('workclass=Without-pay', 12.0),\n",
       " ('native_country=Philippines', 11.0),\n",
       " ('marital-status=Separated', 11.0),\n",
       " ('native_country=Vietnam', 10.0),\n",
       " ('education=5th-6th', 10.0),\n",
       " ('education=10th', 10.0),\n",
       " ('native_country=Italy', 9.0),\n",
       " ('native_country=Guatemala', 9.0),\n",
       " ('marital-status=Married-spouse-absent', 9.0),\n",
       " ('education=Assoc-acdm', 9.0),\n",
       " ('native_country=Nicaragua', 7.0),\n",
       " ('native_country=Japan', 6.0),\n",
       " ('native_country=Greece', 5.0),\n",
       " ('education=12th', 5.0),\n",
       " ('native_country=China', 4.0),\n",
       " ('native_country=Iran', 3.0),\n",
       " ('native_country=Portugal', 2.0),\n",
       " ('native_country=Jamaica', 2.0),\n",
       " ('native_country=India', 1.0),\n",
       " ('native_country=Germany', 1.0),\n",
       " ('education=9th', 1.0)]"
      ]
     },
     "execution_count": 302,
     "metadata": {},
     "output_type": "execute_result"
    }
   ],
   "source": [
    "scores = model_XGB.get_score(importance_type='weight')\n",
    "scores = sorted(scores.items(), key=lambda x: x[1])\n",
    "list(reversed(scores))"
   ]
  },
  {
   "cell_type": "code",
   "execution_count": 303,
   "id": "9b4a39fd-e7d9-452f-ae45-35ac66b6a579",
   "metadata": {},
   "outputs": [
    {
     "data": {
      "image/png": "[encoded data removed]",
      "text/plain": [
       "<Figure size 600x800 with 1 Axes>"
      ]
     },
     "metadata": {},
     "output_type": "display_data"
    }
   ],
   "source": [
    "names = [n for (n, s) in scores]\n",
    "scores = [s for (n, s) in scores]\n",
    "\n",
    "plt.figure(figsize=(6, 8))\n",
    "\n",
    "plt.barh(np.arange(len(scores)), scores)\n",
    "plt.yticks(np.arange(len(names)), names)\n",
    "\n",
    "plt.show()\n",
    "plt.show()\n"
   ]
  },
  {
   "cell_type": "code",
   "execution_count": 304,
   "id": "e014c37f-b6ec-4cc1-b739-d92bd6840bb5",
   "metadata": {},
   "outputs": [
    {
     "data": {
      "image/png": "[encoded data removed]",
      "text/plain": [
       "<Figure size 600x800 with 1 Axes>"
      ]
     },
     "metadata": {},
     "output_type": "display_data"
    }
   ],
   "source": [
    "# Get feature importance and sort by value\n",
    "scores = model_XGB.get_score(importance_type='weight')\n",
    "scores = sorted(scores.items(), key=lambda x: x[1], reverse=True)  # Sort descending\n",
    "\n",
    "# Take only the top 10 features\n",
    "top_10_scores = scores[:10]\n",
    "\n",
    "# Extract names and values for the top 10\n",
    "names, values = zip(*top_10_scores)  # Unpacks the first 10 tuples\n",
    "\n",
    "# Plotting\n",
    "plt.figure(figsize=(6, 8))\n",
    "plt.barh(np.arange(len(values)), values)\n",
    "plt.yticks(np.arange(len(names)), names)\n",
    "plt.xlabel('Importance Score')\n",
    "plt.title('Top 10 Most Important Features')\n",
    "plt.gca().invert_yaxis()  # Optional: invert y-axis for descending order\n",
    "\n",
    "plt.show()\n",
    "\n"
   ]
  },
  {
   "cell_type": "code",
   "execution_count": 350,
   "id": "5f8e2130-cc9f-4e26-ab32-15b86b96ae02",
   "metadata": {},
   "outputs": [
    {
     "name": "stdout",
     "output_type": "stream",
     "text": [
      "Prediction: 1\n",
      "Probability: 0.7097777128219604\n"
     ]
    }
   ],
   "source": [
    "# check if app working\n",
    "\n",
    "import requests\n",
    "import json\n",
    "\n",
    "# URL where the Flask API is running\n",
    "url = 'http://localhost:9696/predict'\n",
    "\n",
    "# Example input data (same format as used in training)\n",
    "data = {\n",
    "    \"age\": 35,\n",
    "    \"workclass\": \"Private\",\n",
    "    \"education\": \"Bachelors\",\n",
    "    \"marital-status\": \"Married-civ-spouse\",\n",
    "    \"occupation\": \"Exec-managerial\",\n",
    "    \"relationship\": \"Husband\",\n",
    "    \"race\": \"White\",\n",
    "    \"sex\": \"Male\",\n",
    "    \"capital-gain\": 0,\n",
    "    \"capital-loss\": 0,\n",
    "    \"hours-per-week\": 40,\n",
    "    \"native-country\": \"United-States\"\n",
    "}\n",
    "\n",
    "# Send a POST request with the input data\n",
    "response = requests.post(url, json=data)\n",
    "\n",
    "# Check if the request was successful\n",
    "if response.status_code == 200:\n",
    "    # Convert response to JSON and print\n",
    "    result = response.json()\n",
    "    print(\"Prediction:\", result['prediction'])\n",
    "    print(\"Probability:\", result['probability'])\n",
    "else:\n",
    "    print(\"Error:\", response.status_code, response.text)\n"
   ]
  },
  {
   "cell_type": "code",
   "execution_count": 347,
   "id": "5033fc38-7dc0-45f8-9e77-a2b833a77fdd",
   "metadata": {},
   "outputs": [],
   "source": [
    "from flask import jsonify\n",
    "\n",
    "with open('Downloads/xgb_model.pkl', 'rb') as model_file:\n",
    "    model_XGB = pickle.load(model_file)\n",
    "\n",
    "with open('Downloads/dv_scaler.pkl', 'rb') as f:\n",
    "    data = pickle.load(f)\n",
    "    dv = data['dict_vectorizer']\n",
    "    scaler = data['scaler']\n",
    "\n",
    "def predict(data):\n",
    "    # Get JSON data from request\n",
    "    \n",
    "    # Process input data using the DictVectorizer\n",
    "    # data_dict = dv.transform([data])  # Input as dictionary\n",
    "\n",
    "    # data = data.to_dict(orient='records')\n",
    "    X_new = dv.transform(data)\n",
    "    X_new_scaled = scaler.transform(X_new)\n",
    "\n",
    "    # Convert to DMatrix for XGBoost prediction\n",
    "    dmatrix = xgb.DMatrix(X_new_scaled, feature_names=dv.feature_names_)\n",
    "\n",
    "    # Make prediction\n",
    "    prediction_proba = model_XGB.predict(dmatrix)\n",
    "    prediction = int(prediction_proba >= 0.5)  # Threshold at 0.5\n",
    "\n",
    "    # Return prediction as JSON\n",
    "    response = {\n",
    "        'prediction': prediction,\n",
    "        'probability': float(prediction_proba)\n",
    "    }\n",
    "    return response"
   ]
  },
  {
   "cell_type": "code",
   "execution_count": 348,
   "id": "3eae8acf-1e1c-418d-9ee7-ad998b02e034",
   "metadata": {},
   "outputs": [
    {
     "name": "stderr",
     "output_type": "stream",
     "text": [
      "/var/folders/p1/s1722x1s68bb0br6wwgwpj_m0000gn/T/ipykernel_1109/797101892.py:26: DeprecationWarning:\n",
      "\n",
      "Conversion of an array with ndim > 0 to a scalar is deprecated, and will error in future. Ensure you extract a single element from your array before performing this operation. (Deprecated NumPy 1.25.)\n",
      "\n",
      "/var/folders/p1/s1722x1s68bb0br6wwgwpj_m0000gn/T/ipykernel_1109/797101892.py:31: DeprecationWarning:\n",
      "\n",
      "Conversion of an array with ndim > 0 to a scalar is deprecated, and will error in future. Ensure you extract a single element from your array before performing this operation. (Deprecated NumPy 1.25.)\n",
      "\n"
     ]
    },
    {
     "data": {
      "text/plain": [
       "{'prediction': 1, 'probability': 0.7097777128219604}"
      ]
     },
     "execution_count": 348,
     "metadata": {},
     "output_type": "execute_result"
    }
   ],
   "source": [
    "\n",
    "data = {\n",
    "    \"age\": 35,\n",
    "    \"workclass\": \"Private\",\n",
    "    \"education\": \"Bachelors\",\n",
    "    \"marital-status\": \"Married-civ-spouse\",\n",
    "    \"occupation\": \"Exec-managerial\",\n",
    "    \"relationship\": \"Husband\",\n",
    "    \"race\": \"White\",\n",
    "    \"sex\": \"Male\",\n",
    "    \"capital-gain\": 0,\n",
    "    \"capital-loss\": 0,\n",
    "    \"hours-per-week\": 40,\n",
    "    \"native-country\": \"United-States\"\n",
    "}\n",
    "\n",
    "predict(data)"
   ]
  },
  {
   "cell_type": "code",
   "execution_count": null,
   "id": "d1427028-e168-4c12-8ce1-981c01109192",
   "metadata": {},
   "outputs": [],
   "source": []
  }
 ],
 "metadata": {
  "kernelspec": {
   "display_name": "Python 3 (ipykernel)",
   "language": "python",
   "name": "python3"
  },
  "language_info": {
   "codemirror_mode": {
    "name": "ipython",
    "version": 3
   },
   "file_extension": ".py",
   "mimetype": "text/x-python",
   "name": "python",
   "nbconvert_exporter": "python",
   "pygments_lexer": "ipython3",
   "version": "3.12.4"
  }
 },
 "nbformat": 4,
 "nbformat_minor": 5
}
